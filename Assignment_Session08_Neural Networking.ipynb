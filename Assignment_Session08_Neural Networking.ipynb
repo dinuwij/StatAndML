{
 "cells": [
  {
   "cell_type": "markdown",
   "metadata": {},
   "source": [
    "### Analysis and Prediction on Data :Defaulted Credit Card Clients"
   ]
  },
  {
   "cell_type": "code",
   "execution_count": 21,
   "metadata": {},
   "outputs": [],
   "source": [
    "\n",
    "#Import Libraries\n",
    "library(mlr)           # ML toolkit\n",
    "library(caret)         # ML toolkit\n",
    "library(nnet)          # class.ind() function\n",
    "library(neuralnet)     # Deep Neural Networks\n",
    "library(LiblineaR)     # LR Lasso (l1)\n",
    "library(randomForest)  # Random Forest\n",
    "library(adabag)        # Boosting\n",
    "library(e1071)         # SVM\n",
    "library(ggplot2)       # Visualization\n",
    "library(plotly)        # 3D visualization\n",
    "\n",
    "# Resize plot\n",
    "library(repr)  # String and binary representations"
   ]
  },
  {
   "cell_type": "code",
   "execution_count": 22,
   "metadata": {},
   "outputs": [],
   "source": [
    "setwd(\"C:\\\\Users\\\\dwijayaweera\\\\Documents\\\\2nd STAT &MIL for marketing\\\\SML_Section7_v2.1_with_solution\\\\SML_Section7_v2.1\\\\data\\\\com1_default\")\n"
   ]
  },
  {
   "cell_type": "code",
   "execution_count": 23,
   "metadata": {},
   "outputs": [],
   "source": [
    "# Read data\n",
    "defaultedCreditCards <- read.csv('default.csv', sep=';')\n"
   ]
  },
  {
   "cell_type": "code",
   "execution_count": 24,
   "metadata": {},
   "outputs": [
    {
     "data": {
      "text/html": [
       "<table>\n",
       "<thead><tr><th scope=col>X</th><th scope=col>X1</th><th scope=col>X2</th><th scope=col>X3</th><th scope=col>X4</th><th scope=col>X5</th><th scope=col>X6</th><th scope=col>X7</th><th scope=col>X8</th><th scope=col>X9</th><th scope=col>...</th><th scope=col>X15</th><th scope=col>X16</th><th scope=col>X17</th><th scope=col>X18</th><th scope=col>X19</th><th scope=col>X20</th><th scope=col>X21</th><th scope=col>X22</th><th scope=col>X23</th><th scope=col>Y</th></tr></thead>\n",
       "<tbody>\n",
       "\t<tr><td>1     </td><td> 20000</td><td>2     </td><td>2     </td><td>1     </td><td>24    </td><td> 2    </td><td>2     </td><td>-1    </td><td>-1    </td><td>...   </td><td>    0 </td><td>    0 </td><td>    0 </td><td>   0  </td><td>  689 </td><td>    0 </td><td>   0  </td><td>   0  </td><td>   0  </td><td>1     </td></tr>\n",
       "\t<tr><td>2     </td><td>120000</td><td>2     </td><td>2     </td><td>2     </td><td>26    </td><td>-1    </td><td>2     </td><td> 0    </td><td> 0    </td><td>...   </td><td> 3272 </td><td> 3455 </td><td> 3261 </td><td>   0  </td><td> 1000 </td><td> 1000 </td><td>1000  </td><td>   0  </td><td>2000  </td><td>1     </td></tr>\n",
       "\t<tr><td>3     </td><td> 90000</td><td>2     </td><td>2     </td><td>2     </td><td>34    </td><td> 0    </td><td>0     </td><td> 0    </td><td> 0    </td><td>...   </td><td>14331 </td><td>14948 </td><td>15549 </td><td>1518  </td><td> 1500 </td><td> 1000 </td><td>1000  </td><td>1000  </td><td>5000  </td><td>0     </td></tr>\n",
       "\t<tr><td>4     </td><td> 50000</td><td>2     </td><td>2     </td><td>1     </td><td>37    </td><td> 0    </td><td>0     </td><td> 0    </td><td> 0    </td><td>...   </td><td>28314 </td><td>28959 </td><td>29547 </td><td>2000  </td><td> 2019 </td><td> 1200 </td><td>1100  </td><td>1069  </td><td>1000  </td><td>0     </td></tr>\n",
       "\t<tr><td>5     </td><td> 50000</td><td>1     </td><td>2     </td><td>1     </td><td>57    </td><td>-1    </td><td>0     </td><td>-1    </td><td> 0    </td><td>...   </td><td>20940 </td><td>19146 </td><td>19131 </td><td>2000  </td><td>36681 </td><td>10000 </td><td>9000  </td><td> 689  </td><td> 679  </td><td>0     </td></tr>\n",
       "\t<tr><td>6     </td><td> 50000</td><td>1     </td><td>1     </td><td>2     </td><td>37    </td><td> 0    </td><td>0     </td><td> 0    </td><td> 0    </td><td>...   </td><td>19394 </td><td>19619 </td><td>20024 </td><td>2500  </td><td> 1815 </td><td>  657 </td><td>1000  </td><td>1000  </td><td> 800  </td><td>0     </td></tr>\n",
       "</tbody>\n",
       "</table>\n"
      ],
      "text/latex": [
       "\\begin{tabular}{r|lllllllllllllllllllllllll}\n",
       " X & X1 & X2 & X3 & X4 & X5 & X6 & X7 & X8 & X9 & ... & X15 & X16 & X17 & X18 & X19 & X20 & X21 & X22 & X23 & Y\\\\\n",
       "\\hline\n",
       "\t 1      &  20000 & 2      & 2      & 1      & 24     &  2     & 2      & -1     & -1     & ...    &     0  &     0  &     0  &    0   &   689  &     0  &    0   &    0   &    0   & 1     \\\\\n",
       "\t 2      & 120000 & 2      & 2      & 2      & 26     & -1     & 2      &  0     &  0     & ...    &  3272  &  3455  &  3261  &    0   &  1000  &  1000  & 1000   &    0   & 2000   & 1     \\\\\n",
       "\t 3      &  90000 & 2      & 2      & 2      & 34     &  0     & 0      &  0     &  0     & ...    & 14331  & 14948  & 15549  & 1518   &  1500  &  1000  & 1000   & 1000   & 5000   & 0     \\\\\n",
       "\t 4      &  50000 & 2      & 2      & 1      & 37     &  0     & 0      &  0     &  0     & ...    & 28314  & 28959  & 29547  & 2000   &  2019  &  1200  & 1100   & 1069   & 1000   & 0     \\\\\n",
       "\t 5      &  50000 & 1      & 2      & 1      & 57     & -1     & 0      & -1     &  0     & ...    & 20940  & 19146  & 19131  & 2000   & 36681  & 10000  & 9000   &  689   &  679   & 0     \\\\\n",
       "\t 6      &  50000 & 1      & 1      & 2      & 37     &  0     & 0      &  0     &  0     & ...    & 19394  & 19619  & 20024  & 2500   &  1815  &   657  & 1000   & 1000   &  800   & 0     \\\\\n",
       "\\end{tabular}\n"
      ],
      "text/markdown": [
       "\n",
       "| X | X1 | X2 | X3 | X4 | X5 | X6 | X7 | X8 | X9 | ... | X15 | X16 | X17 | X18 | X19 | X20 | X21 | X22 | X23 | Y |\n",
       "|---|---|---|---|---|---|---|---|---|---|---|---|---|---|---|---|---|---|---|---|---|\n",
       "| 1      |  20000 | 2      | 2      | 1      | 24     |  2     | 2      | -1     | -1     | ...    |     0  |     0  |     0  |    0   |   689  |     0  |    0   |    0   |    0   | 1      |\n",
       "| 2      | 120000 | 2      | 2      | 2      | 26     | -1     | 2      |  0     |  0     | ...    |  3272  |  3455  |  3261  |    0   |  1000  |  1000  | 1000   |    0   | 2000   | 1      |\n",
       "| 3      |  90000 | 2      | 2      | 2      | 34     |  0     | 0      |  0     |  0     | ...    | 14331  | 14948  | 15549  | 1518   |  1500  |  1000  | 1000   | 1000   | 5000   | 0      |\n",
       "| 4      |  50000 | 2      | 2      | 1      | 37     |  0     | 0      |  0     |  0     | ...    | 28314  | 28959  | 29547  | 2000   |  2019  |  1200  | 1100   | 1069   | 1000   | 0      |\n",
       "| 5      |  50000 | 1      | 2      | 1      | 57     | -1     | 0      | -1     |  0     | ...    | 20940  | 19146  | 19131  | 2000   | 36681  | 10000  | 9000   |  689   |  679   | 0      |\n",
       "| 6      |  50000 | 1      | 1      | 2      | 37     |  0     | 0      |  0     |  0     | ...    | 19394  | 19619  | 20024  | 2500   |  1815  |   657  | 1000   | 1000   |  800   | 0      |\n",
       "\n"
      ],
      "text/plain": [
       "  X X1     X2 X3 X4 X5 X6 X7 X8 X9 ... X15   X16   X17   X18  X19   X20   X21 \n",
       "1 1  20000 2  2  1  24  2 2  -1 -1 ...     0     0     0    0   689     0    0\n",
       "2 2 120000 2  2  2  26 -1 2   0  0 ...  3272  3455  3261    0  1000  1000 1000\n",
       "3 3  90000 2  2  2  34  0 0   0  0 ... 14331 14948 15549 1518  1500  1000 1000\n",
       "4 4  50000 2  2  1  37  0 0   0  0 ... 28314 28959 29547 2000  2019  1200 1100\n",
       "5 5  50000 1  2  1  57 -1 0  -1  0 ... 20940 19146 19131 2000 36681 10000 9000\n",
       "6 6  50000 1  1  2  37  0 0   0  0 ... 19394 19619 20024 2500  1815   657 1000\n",
       "  X22  X23  Y\n",
       "1    0    0 1\n",
       "2    0 2000 1\n",
       "3 1000 5000 0\n",
       "4 1069 1000 0\n",
       "5  689  679 0\n",
       "6 1000  800 0"
      ]
     },
     "metadata": {},
     "output_type": "display_data"
    }
   ],
   "source": [
    "head(defaultedCreditCards)"
   ]
  },
  {
   "cell_type": "code",
   "execution_count": 25,
   "metadata": {},
   "outputs": [
    {
     "name": "stdout",
     "output_type": "stream",
     "text": [
      "'data.frame':\t30000 obs. of  25 variables:\n",
      " $ X  : int  1 2 3 4 5 6 7 8 9 10 ...\n",
      " $ X1 : int  20000 120000 90000 50000 50000 50000 500000 100000 140000 20000 ...\n",
      " $ X2 : int  2 2 2 2 1 1 1 2 2 1 ...\n",
      " $ X3 : int  2 2 2 2 2 1 1 2 3 3 ...\n",
      " $ X4 : int  1 2 2 1 1 2 2 2 1 2 ...\n",
      " $ X5 : int  24 26 34 37 57 37 29 23 28 35 ...\n",
      " $ X6 : int  2 -1 0 0 -1 0 0 0 0 -2 ...\n",
      " $ X7 : int  2 2 0 0 0 0 0 -1 0 -2 ...\n",
      " $ X8 : int  -1 0 0 0 -1 0 0 -1 2 -2 ...\n",
      " $ X9 : int  -1 0 0 0 0 0 0 0 0 -2 ...\n",
      " $ X10: int  -2 0 0 0 0 0 0 0 0 -1 ...\n",
      " $ X11: int  -2 2 0 0 0 0 0 -1 0 -1 ...\n",
      " $ X12: int  3913 2682 29239 46990 8617 64400 367965 11876 11285 0 ...\n",
      " $ X13: int  3102 1725 14027 48233 5670 57069 412023 380 14096 0 ...\n",
      " $ X14: int  689 2682 13559 49291 35835 57608 445007 601 12108 0 ...\n",
      " $ X15: int  0 3272 14331 28314 20940 19394 542653 221 12211 0 ...\n",
      " $ X16: int  0 3455 14948 28959 19146 19619 483003 -159 11793 13007 ...\n",
      " $ X17: int  0 3261 15549 29547 19131 20024 473944 567 3719 13912 ...\n",
      " $ X18: int  0 0 1518 2000 2000 2500 55000 380 3329 0 ...\n",
      " $ X19: int  689 1000 1500 2019 36681 1815 40000 601 0 0 ...\n",
      " $ X20: int  0 1000 1000 1200 10000 657 38000 0 432 0 ...\n",
      " $ X21: int  0 1000 1000 1100 9000 1000 20239 581 1000 13007 ...\n",
      " $ X22: int  0 0 1000 1069 689 1000 13750 1687 1000 1122 ...\n",
      " $ X23: int  0 2000 5000 1000 679 800 13770 1542 1000 0 ...\n",
      " $ Y  : int  1 1 0 0 0 0 0 0 0 0 ...\n"
     ]
    }
   ],
   "source": [
    "str(defaultedCreditCards)"
   ]
  },
  {
   "cell_type": "code",
   "execution_count": 26,
   "metadata": {},
   "outputs": [
    {
     "data": {
      "text/plain": [
       "\n",
       "    0     1 \n",
       "23364  6636 "
      ]
     },
     "metadata": {},
     "output_type": "display_data"
    }
   ],
   "source": [
    "table(defaultedCreditCards$Y)"
   ]
  },
  {
   "cell_type": "code",
   "execution_count": 27,
   "metadata": {},
   "outputs": [
    {
     "data": {
      "text/html": [
       "<ol class=list-inline>\n",
       "\t<li>30000</li>\n",
       "\t<li>25</li>\n",
       "</ol>\n"
      ],
      "text/latex": [
       "\\begin{enumerate*}\n",
       "\\item 30000\n",
       "\\item 25\n",
       "\\end{enumerate*}\n"
      ],
      "text/markdown": [
       "1. 30000\n",
       "2. 25\n",
       "\n",
       "\n"
      ],
      "text/plain": [
       "[1] 30000    25"
      ]
     },
     "metadata": {},
     "output_type": "display_data"
    }
   ],
   "source": [
    "dim(defaultedCreditCards)"
   ]
  },
  {
   "cell_type": "markdown",
   "metadata": {},
   "source": [
    "### Q1 Randomly divide data into train/test as 80/20 (set.seed=1)."
   ]
  },
  {
   "cell_type": "code",
   "execution_count": 28,
   "metadata": {},
   "outputs": [
    {
     "data": {
      "text/html": [
       "<ol class=list-inline>\n",
       "\t<li>24000</li>\n",
       "\t<li>25</li>\n",
       "</ol>\n"
      ],
      "text/latex": [
       "\\begin{enumerate*}\n",
       "\\item 24000\n",
       "\\item 25\n",
       "\\end{enumerate*}\n"
      ],
      "text/markdown": [
       "1. 24000\n",
       "2. 25\n",
       "\n",
       "\n"
      ],
      "text/plain": [
       "[1] 24000    25"
      ]
     },
     "metadata": {},
     "output_type": "display_data"
    },
    {
     "data": {
      "text/html": [
       "<ol class=list-inline>\n",
       "\t<li>6000</li>\n",
       "\t<li>25</li>\n",
       "</ol>\n"
      ],
      "text/latex": [
       "\\begin{enumerate*}\n",
       "\\item 6000\n",
       "\\item 25\n",
       "\\end{enumerate*}\n"
      ],
      "text/markdown": [
       "1. 6000\n",
       "2. 25\n",
       "\n",
       "\n"
      ],
      "text/plain": [
       "[1] 6000   25"
      ]
     },
     "metadata": {},
     "output_type": "display_data"
    }
   ],
   "source": [
    "# The general train and test split\n",
    "set.seed(1)\n",
    "train_idx <- sample(1:nrow(defaultedCreditCards), round(nrow(defaultedCreditCards)*0.8))\n",
    "train <- defaultedCreditCards[train_idx, ]\n",
    "test <- defaultedCreditCards[-train_idx, ]\n",
    "\n",
    "\n",
    "dim(train)\n",
    "dim(test)"
   ]
  },
  {
   "cell_type": "code",
   "execution_count": 29,
   "metadata": {},
   "outputs": [],
   "source": [
    "#Creating dummy variables from the target variable\n",
    "DCC2 <- cbind(defaultedCreditCards[, 2:(ncol(defaultedCreditCards)-1)], class.ind(as.factor(defaultedCreditCards$Y)))\n",
    "names(DCC2) <- c(names(DCC2)[1:(ncol(DCC2)-2)], \"No\", \"Yes\")"
   ]
  },
  {
   "cell_type": "code",
   "execution_count": 30,
   "metadata": {},
   "outputs": [
    {
     "name": "stdout",
     "output_type": "stream",
     "text": [
      "'data.frame':\t30000 obs. of  25 variables:\n",
      " $ X1 : int  20000 120000 90000 50000 50000 50000 500000 100000 140000 20000 ...\n",
      " $ X2 : int  2 2 2 2 1 1 1 2 2 1 ...\n",
      " $ X3 : int  2 2 2 2 2 1 1 2 3 3 ...\n",
      " $ X4 : int  1 2 2 1 1 2 2 2 1 2 ...\n",
      " $ X5 : int  24 26 34 37 57 37 29 23 28 35 ...\n",
      " $ X6 : int  2 -1 0 0 -1 0 0 0 0 -2 ...\n",
      " $ X7 : int  2 2 0 0 0 0 0 -1 0 -2 ...\n",
      " $ X8 : int  -1 0 0 0 -1 0 0 -1 2 -2 ...\n",
      " $ X9 : int  -1 0 0 0 0 0 0 0 0 -2 ...\n",
      " $ X10: int  -2 0 0 0 0 0 0 0 0 -1 ...\n",
      " $ X11: int  -2 2 0 0 0 0 0 -1 0 -1 ...\n",
      " $ X12: int  3913 2682 29239 46990 8617 64400 367965 11876 11285 0 ...\n",
      " $ X13: int  3102 1725 14027 48233 5670 57069 412023 380 14096 0 ...\n",
      " $ X14: int  689 2682 13559 49291 35835 57608 445007 601 12108 0 ...\n",
      " $ X15: int  0 3272 14331 28314 20940 19394 542653 221 12211 0 ...\n",
      " $ X16: int  0 3455 14948 28959 19146 19619 483003 -159 11793 13007 ...\n",
      " $ X17: int  0 3261 15549 29547 19131 20024 473944 567 3719 13912 ...\n",
      " $ X18: int  0 0 1518 2000 2000 2500 55000 380 3329 0 ...\n",
      " $ X19: int  689 1000 1500 2019 36681 1815 40000 601 0 0 ...\n",
      " $ X20: int  0 1000 1000 1200 10000 657 38000 0 432 0 ...\n",
      " $ X21: int  0 1000 1000 1100 9000 1000 20239 581 1000 13007 ...\n",
      " $ X22: int  0 0 1000 1069 689 1000 13750 1687 1000 1122 ...\n",
      " $ X23: int  0 2000 5000 1000 679 800 13770 1542 1000 0 ...\n",
      " $ No : num  0 0 1 1 1 1 1 1 1 1 ...\n",
      " $ Yes: num  1 1 0 0 0 0 0 0 0 0 ...\n"
     ]
    }
   ],
   "source": [
    "str(DCC2)"
   ]
  },
  {
   "cell_type": "code",
   "execution_count": 31,
   "metadata": {},
   "outputs": [
    {
     "data": {
      "text/html": [
       "<ol class=list-inline>\n",
       "\t<li>30000</li>\n",
       "\t<li>25</li>\n",
       "</ol>\n"
      ],
      "text/latex": [
       "\\begin{enumerate*}\n",
       "\\item 30000\n",
       "\\item 25\n",
       "\\end{enumerate*}\n"
      ],
      "text/markdown": [
       "1. 30000\n",
       "2. 25\n",
       "\n",
       "\n"
      ],
      "text/plain": [
       "[1] 30000    25"
      ]
     },
     "metadata": {},
     "output_type": "display_data"
    }
   ],
   "source": [
    "#dimensions\n",
    "dim(DCC2)"
   ]
  },
  {
   "cell_type": "code",
   "execution_count": null,
   "metadata": {},
   "outputs": [],
   "source": [
    "# Create a sample of the data\n",
    "set.seed(1)\n",
    "DCC2 <- DCC2[sample(1:nrow(DCC2), round(nrow(DCC2)*0.05)), ]\n",
    "\n",
    "# Split the adjusted data for NN model into train/test\n",
    "\n",
    "train_idx <- sample(1:nrow(DCC2), round(nrow(DCC2)*0.8))\n",
    "train_df2 <- DCC2[train_idx, ]\n",
    "test_df2 <- DCC2[-train_idx, ]\n",
    "\n",
    "\n",
    "dim(train_df2)\n",
    "dim(test_df2)"
   ]
  },
  {
   "cell_type": "code",
   "execution_count": null,
   "metadata": {},
   "outputs": [],
   "source": [
    "\n",
    "\n",
    "#create the formula\n",
    "\n",
    "\n",
    "#DCC_formula <- as.formula(\"N + Y ~ X1+ X2+ X3+ X4+ X5+ X6+ X7+ X8+X9+X10+X11+X12+X13+X14+X15+X16+X17+X18+X19+X20+X21+X22+X23\")\n",
    "\n",
    "DCC_formula <- as.formula(paste0('No + Yes ~ ', paste(names(DCC2)[1:(ncol(DCC2)-2)], collapse=' + ')))\n"
   ]
  },
  {
   "cell_type": "markdown",
   "metadata": {},
   "source": [
    "### Q2: Build a NN model with 1 hidden layer of 30 neurons, sigmoid activation function. "
   ]
  },
  {
   "cell_type": "code",
   "execution_count": null,
   "metadata": {},
   "outputs": [],
   "source": [
    "\n",
    "# Fit the Neural Network model\n",
    "dcc_nnet_i <- neuralnet(DCC_formula,\n",
    "                     train_df2,\n",
    "                     hidden=c(10, 10, 10),        # Size of the hidden layers\n",
    "                     \n",
    "                     rep=1,                 # Number of training repeat\n",
    "                     lifesign='full',       # Print during train\n",
    "                     algorithm='backprop',  # Algorithm to calculate the network\n",
    "                     learningrate=0.01,     # Learning rate\n",
    "                     err.fct='ce',          # Error function, cross-entropy\n",
    "                     act.fct=\"logistic\",    # Function use to calculate the result\n",
    "                     linear.output=F\n",
    ")"
   ]
  },
  {
   "cell_type": "code",
   "execution_count": null,
   "metadata": {},
   "outputs": [],
   "source": [
    "# Make prediction and evaluation on train\n",
    "y_train_pred <- predict(dcc_nnet_i, train[, c(1:24)])\n",
    "mean((max.col(y_train_pred)-1) == train$Y)"
   ]
  },
  {
   "cell_type": "code",
   "execution_count": null,
   "metadata": {},
   "outputs": [],
   "source": [
    "# Make prediction and evaluation on test\n",
    "y_test_pred <- predict(dcc_nnet_i, test[, c(1:24)])\n",
    "mean((max.col(y_test_pred)-1) == test$Y)"
   ]
  },
  {
   "cell_type": "markdown",
   "metadata": {},
   "source": [
    "### Q3  Build a deep NN model with multiple hidden layers (of your choice) and sigmoid activation function. "
   ]
  },
  {
   "cell_type": "code",
   "execution_count": null,
   "metadata": {},
   "outputs": [],
   "source": [
    "\n",
    "# Fit the Neural Network model\n",
    "dcc_nnet_ii <- neuralnet(DCC_formula,\n",
    "                     train_df2,\n",
    "                     hidden=c(5, 5, 5),        # Size of the hidden layers\n",
    "                     hidden=c(5, 5, 5),        # Size of the hidden layers\n",
    "                     hidden=c(10, 10, 10),        # Size of the hidden layers\n",
    "                     stepmax=20000,        # Maximum training step\n",
    "                     rep=1,                 # Number of training repeat\n",
    "                     lifesign='full',       # Print during train\n",
    "                     algorithm='backprop',  # Algorithm to calculate the network\n",
    "                     learningrate=0.01,     # Learning rate\n",
    "                     err.fct='ce',          # Error function, cross-entropy\n",
    "                     act.fct=\"logistic\",    # Function use to calculate the result\n",
    "                     linear.output=F\n",
    ")"
   ]
  },
  {
   "cell_type": "code",
   "execution_count": null,
   "metadata": {},
   "outputs": [],
   "source": [
    "# Make prediction and evaluation on train\n",
    "y_train_pred <- predict(dcc_nnet_ii, train[, c(1:24)])\n",
    "mean((max.col(y_train_pred)-1) == train$Y)"
   ]
  },
  {
   "cell_type": "code",
   "execution_count": null,
   "metadata": {},
   "outputs": [],
   "source": [
    "# Make prediction and evaluation on test\n",
    "y_test_pred <- predict(dcc_nnet_ii, test[, c(1:24)])\n",
    "mean((max.col(y_test_pred)-1) == test$Y)"
   ]
  },
  {
   "cell_type": "markdown",
   "metadata": {},
   "source": [
    "### Q4  Build 5 other classification models and compare with the 2 previous NN models."
   ]
  },
  {
   "cell_type": "code",
   "execution_count": 50,
   "metadata": {},
   "outputs": [
    {
     "data": {
      "text/html": [
       "<ol class=list-inline>\n",
       "\t<li>24000</li>\n",
       "\t<li>25</li>\n",
       "</ol>\n"
      ],
      "text/latex": [
       "\\begin{enumerate*}\n",
       "\\item 24000\n",
       "\\item 25\n",
       "\\end{enumerate*}\n"
      ],
      "text/markdown": [
       "1. 24000\n",
       "2. 25\n",
       "\n",
       "\n"
      ],
      "text/plain": [
       "[1] 24000    25"
      ]
     },
     "metadata": {},
     "output_type": "display_data"
    },
    {
     "data": {
      "text/html": [
       "<ol class=list-inline>\n",
       "\t<li>6000</li>\n",
       "\t<li>25</li>\n",
       "</ol>\n"
      ],
      "text/latex": [
       "\\begin{enumerate*}\n",
       "\\item 6000\n",
       "\\item 25\n",
       "\\end{enumerate*}\n"
      ],
      "text/markdown": [
       "1. 6000\n",
       "2. 25\n",
       "\n",
       "\n"
      ],
      "text/plain": [
       "[1] 6000   25"
      ]
     },
     "metadata": {},
     "output_type": "display_data"
    }
   ],
   "source": [
    "# Train and test which was previously created was used\n",
    "\n",
    "\n",
    "\n",
    "# Check the data\n",
    "dim(train)\n",
    "dim(test)"
   ]
  },
  {
   "cell_type": "code",
   "execution_count": 52,
   "metadata": {},
   "outputs": [
    {
     "data": {
      "text/plain": [
       "\n",
       "   0    1 \n",
       "0.78 0.22 "
      ]
     },
     "metadata": {},
     "output_type": "display_data"
    },
    {
     "data": {
      "text/plain": [
       "\n",
       "   0    1 \n",
       "0.77 0.23 "
      ]
     },
     "metadata": {},
     "output_type": "display_data"
    }
   ],
   "source": [
    "# Check the label proportion\n",
    "round(table(train$Y) / nrow(train), 2)\n",
    "round(table(test$Y) / nrow(test), 2)"
   ]
  },
  {
   "cell_type": "code",
   "execution_count": 54,
   "metadata": {},
   "outputs": [],
   "source": [
    "# Define the ML classification task\n",
    "train_task <- mlr::makeClassifTask(id ='dcc_train', data=train, target='Y')\n",
    "test_task <- mlr::makeClassifTask(id='dcc_test', data=test, target='Y')"
   ]
  },
  {
   "cell_type": "code",
   "execution_count": 61,
   "metadata": {},
   "outputs": [
    {
     "data": {
      "text/html": [
       "<strong>acc:</strong> 0.806"
      ],
      "text/latex": [
       "\\textbf{acc:} 0.806"
      ],
      "text/markdown": [
       "**acc:** 0.806"
      ],
      "text/plain": [
       "  acc \n",
       "0.806 "
      ]
     },
     "metadata": {},
     "output_type": "display_data"
    }
   ],
   "source": [
    "# Logistic Regression Lasso (l1)\n",
    "set.seed(1)\n",
    "learner <- mlr::makeLearner('classif.LiblineaRL1LogReg')  # Register a machine learning model\n",
    "model <- mlr::train(learner, train_task)\n",
    "pred_test <- predict(model, task=test_task)\n",
    "performance(pred_test, measures=acc)"
   ]
  },
  {
   "cell_type": "code",
   "execution_count": 62,
   "metadata": {},
   "outputs": [
    {
     "data": {
      "text/html": [
       "<strong>acc:</strong> 0.814"
      ],
      "text/latex": [
       "\\textbf{acc:} 0.814"
      ],
      "text/markdown": [
       "**acc:** 0.814"
      ],
      "text/plain": [
       "  acc \n",
       "0.814 "
      ]
     },
     "metadata": {},
     "output_type": "display_data"
    }
   ],
   "source": [
    "# Random Forest\n",
    "set.seed(1)\n",
    "learner <- makeLearner('classif.randomForest')\n",
    "model <- mlr::train(learner, train_task)\n",
    "pred_test <- predict(model, task=test_task)\n",
    "performance(pred_test, measures=acc)"
   ]
  },
  {
   "cell_type": "code",
   "execution_count": 63,
   "metadata": {},
   "outputs": [
    {
     "data": {
      "text/html": [
       "<strong>acc:</strong> 0.771833333333333"
      ],
      "text/latex": [
       "\\textbf{acc:} 0.771833333333333"
      ],
      "text/markdown": [
       "**acc:** 0.771833333333333"
      ],
      "text/plain": [
       "      acc \n",
       "0.7718333 "
      ]
     },
     "metadata": {},
     "output_type": "display_data"
    }
   ],
   "source": [
    "# k-Nearest Neighbor (k=50)\n",
    "set.seed(1)\n",
    "learner <- makeLearner('classif.knn', k=50)\n",
    "model <- mlr::train(learner, train_task)\n",
    "pred_test <- predict(model, task=test_task)\n",
    "performance(pred_test, measures=acc)"
   ]
  },
  {
   "cell_type": "code",
   "execution_count": 64,
   "metadata": {},
   "outputs": [
    {
     "data": {
      "text/html": [
       "<strong>acc:</strong> 0.814333333333333"
      ],
      "text/latex": [
       "\\textbf{acc:} 0.814333333333333"
      ],
      "text/markdown": [
       "**acc:** 0.814333333333333"
      ],
      "text/plain": [
       "      acc \n",
       "0.8143333 "
      ]
     },
     "metadata": {},
     "output_type": "display_data"
    }
   ],
   "source": [
    "# Adabag Boosting\n",
    "set.seed(1)\n",
    "learner <- makeLearner('classif.boosting')\n",
    "model <- mlr::train(learner, train_task)\n",
    "pred_test <- predict(model, task=test_task)\n",
    "performance(pred_test, measures=acc)"
   ]
  },
  {
   "cell_type": "code",
   "execution_count": 65,
   "metadata": {},
   "outputs": [
    {
     "data": {
      "text/html": [
       "<strong>acc:</strong> 0.807666666666667"
      ],
      "text/latex": [
       "\\textbf{acc:} 0.807666666666667"
      ],
      "text/markdown": [
       "**acc:** 0.807666666666667"
      ],
      "text/plain": [
       "      acc \n",
       "0.8076667 "
      ]
     },
     "metadata": {},
     "output_type": "display_data"
    }
   ],
   "source": [
    "# LDA (drop zero-variance features)\n",
    "set.seed(1)\n",
    "learner <- makeLearner('classif.lda')\n",
    "model <- mlr::train(learner, filterFeatures(train_task, method='variance', threshold=0.1))\n",
    "#model <- mlr::train(learner, train_task)\n",
    "pred_test <- predict(model, task=test_task)\n",
    "performance(pred_test, measures=acc)"
   ]
  },
  {
   "cell_type": "markdown",
   "metadata": {},
   "source": [
    "It seems the nueral networks overfit the data. According to the classification models Adabag Boosting and Random Foreset are performing well with almost the same accuracy of 0.814.\n",
    "These two models are followed by LDA with 0.807 and Logistic Regression with accuracy of 0.806.\n"
   ]
  },
  {
   "cell_type": "code",
   "execution_count": null,
   "metadata": {},
   "outputs": [],
   "source": []
  }
 ],
 "metadata": {
  "kernelspec": {
   "display_name": "R",
   "language": "R",
   "name": "ir"
  },
  "language_info": {
   "codemirror_mode": "r",
   "file_extension": ".r",
   "mimetype": "text/x-r-source",
   "name": "R",
   "pygments_lexer": "r",
   "version": "3.6.1"
  }
 },
 "nbformat": 4,
 "nbformat_minor": 2
}
