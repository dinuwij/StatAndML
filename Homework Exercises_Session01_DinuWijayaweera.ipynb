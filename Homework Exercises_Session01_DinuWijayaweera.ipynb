{
 "cells": [
  {
   "cell_type": "code",
   "execution_count": null,
   "metadata": {},
   "outputs": [],
   "source": [
    "#Exercise 2 (p.52, Chap.2), 10 (p.56, Chap.2),"
   ]
  },
  {
   "cell_type": "markdown",
   "metadata": {},
   "source": [
    "#### Exercise 2 : \n"
   ]
  },
  {
   "cell_type": "markdown",
   "metadata": {},
   "source": [
    "Explain whether it is a classification or regression problem, \n",
    "indicate if inference or prediction is best. \n",
    "& provide n and p"
   ]
  },
  {
   "cell_type": "markdown",
   "metadata": {},
   "source": [
    "a. Regression problem - Inference. n=500 firms p=profit, number of employees, industry"
   ]
  },
  {
   "cell_type": "markdown",
   "metadata": {},
   "source": [
    "b. Classification - Prediction. n=20 p=price charged for the product, marketing budget, competition price and other"
   ]
  },
  {
   "cell_type": "markdown",
   "metadata": {},
   "source": [
    "c. Regression problem with prediction required. n=weekly data for all of 2012 p=, the % change in the US market, the % change in the British market, and the % change in the German market."
   ]
  },
  {
   "cell_type": "markdown",
   "metadata": {},
   "source": [
    "#### Exercise 10:"
   ]
  },
  {
   "cell_type": "code",
   "execution_count": 1,
   "metadata": {},
   "outputs": [
    {
     "name": "stderr",
     "output_type": "stream",
     "text": [
      "Warning message:\n",
      "\"package 'MASS' was built under R version 3.6.2\""
     ]
    }
   ],
   "source": [
    "library(MASS)\n",
    "library(ggplot2)"
   ]
  },
  {
   "cell_type": "code",
   "execution_count": 2,
   "metadata": {},
   "outputs": [],
   "source": [
    "?Boston"
   ]
  },
  {
   "cell_type": "code",
   "execution_count": 3,
   "metadata": {},
   "outputs": [
    {
     "data": {
      "text/html": [
       "506"
      ],
      "text/latex": [
       "506"
      ],
      "text/markdown": [
       "506"
      ],
      "text/plain": [
       "[1] 506"
      ]
     },
     "metadata": {},
     "output_type": "display_data"
    }
   ],
   "source": [
    "#Number of rows in the dataset\n",
    "nrow(Boston)"
   ]
  },
  {
   "cell_type": "code",
   "execution_count": 5,
   "metadata": {},
   "outputs": [
    {
     "data": {
      "text/html": [
       "14"
      ],
      "text/latex": [
       "14"
      ],
      "text/markdown": [
       "14"
      ],
      "text/plain": [
       "[1] 14"
      ]
     },
     "metadata": {},
     "output_type": "display_data"
    }
   ],
   "source": [
    "#Number of columns in the dataset\n",
    "ncol(Boston)"
   ]
  },
  {
   "cell_type": "markdown",
   "metadata": {},
   "source": [
    "Columns represent the variables in the dataset and the rows represent the number of observations."
   ]
  },
  {
   "cell_type": "code",
   "execution_count": 25,
   "metadata": {},
   "outputs": [
    {
     "name": "stdout",
     "output_type": "stream",
     "text": [
      "'data.frame':\t506 obs. of  14 variables:\n",
      " $ crim   : num  0.00632 0.02731 0.02729 0.03237 0.06905 ...\n",
      " $ zn     : num  18 0 0 0 0 0 12.5 12.5 12.5 12.5 ...\n",
      " $ indus  : num  2.31 7.07 7.07 2.18 2.18 2.18 7.87 7.87 7.87 7.87 ...\n",
      " $ chas   : int  0 0 0 0 0 0 0 0 0 0 ...\n",
      " $ nox    : num  0.538 0.469 0.469 0.458 0.458 0.458 0.524 0.524 0.524 0.524 ...\n",
      " $ rm     : num  6.58 6.42 7.18 7 7.15 ...\n",
      " $ age    : num  65.2 78.9 61.1 45.8 54.2 58.7 66.6 96.1 100 85.9 ...\n",
      " $ dis    : num  4.09 4.97 4.97 6.06 6.06 ...\n",
      " $ rad    : int  1 2 2 3 3 3 5 5 5 5 ...\n",
      " $ tax    : num  296 242 242 222 222 222 311 311 311 311 ...\n",
      " $ ptratio: num  15.3 17.8 17.8 18.7 18.7 18.7 15.2 15.2 15.2 15.2 ...\n",
      " $ black  : num  397 397 393 395 397 ...\n",
      " $ lstat  : num  4.98 9.14 4.03 2.94 5.33 ...\n",
      " $ medv   : num  24 21.6 34.7 33.4 36.2 28.7 22.9 27.1 16.5 18.9 ...\n"
     ]
    },
    {
     "data": {
      "text/html": [
       "<table>\n",
       "<thead><tr><th scope=col>crim</th><th scope=col>zn</th><th scope=col>indus</th><th scope=col>chas</th><th scope=col>nox</th><th scope=col>rm</th><th scope=col>age</th><th scope=col>dis</th><th scope=col>rad</th><th scope=col>tax</th><th scope=col>ptratio</th><th scope=col>black</th><th scope=col>lstat</th><th scope=col>medv</th></tr></thead>\n",
       "<tbody>\n",
       "\t<tr><td>0.00632</td><td>18     </td><td>2.31   </td><td>0      </td><td>0.538  </td><td>6.575  </td><td>65.2   </td><td>4.0900 </td><td>1      </td><td>296    </td><td>15.3   </td><td>396.90 </td><td>4.98   </td><td>24.0   </td></tr>\n",
       "\t<tr><td>0.02731</td><td> 0     </td><td>7.07   </td><td>0      </td><td>0.469  </td><td>6.421  </td><td>78.9   </td><td>4.9671 </td><td>2      </td><td>242    </td><td>17.8   </td><td>396.90 </td><td>9.14   </td><td>21.6   </td></tr>\n",
       "\t<tr><td>0.02729</td><td> 0     </td><td>7.07   </td><td>0      </td><td>0.469  </td><td>7.185  </td><td>61.1   </td><td>4.9671 </td><td>2      </td><td>242    </td><td>17.8   </td><td>392.83 </td><td>4.03   </td><td>34.7   </td></tr>\n",
       "\t<tr><td>0.03237</td><td> 0     </td><td>2.18   </td><td>0      </td><td>0.458  </td><td>6.998  </td><td>45.8   </td><td>6.0622 </td><td>3      </td><td>222    </td><td>18.7   </td><td>394.63 </td><td>2.94   </td><td>33.4   </td></tr>\n",
       "\t<tr><td>0.06905</td><td> 0     </td><td>2.18   </td><td>0      </td><td>0.458  </td><td>7.147  </td><td>54.2   </td><td>6.0622 </td><td>3      </td><td>222    </td><td>18.7   </td><td>396.90 </td><td>5.33   </td><td>36.2   </td></tr>\n",
       "\t<tr><td>0.02985</td><td> 0     </td><td>2.18   </td><td>0      </td><td>0.458  </td><td>6.430  </td><td>58.7   </td><td>6.0622 </td><td>3      </td><td>222    </td><td>18.7   </td><td>394.12 </td><td>5.21   </td><td>28.7   </td></tr>\n",
       "</tbody>\n",
       "</table>\n"
      ],
      "text/latex": [
       "\\begin{tabular}{r|llllllllllllll}\n",
       " crim & zn & indus & chas & nox & rm & age & dis & rad & tax & ptratio & black & lstat & medv\\\\\n",
       "\\hline\n",
       "\t 0.00632 & 18      & 2.31    & 0       & 0.538   & 6.575   & 65.2    & 4.0900  & 1       & 296     & 15.3    & 396.90  & 4.98    & 24.0   \\\\\n",
       "\t 0.02731 &  0      & 7.07    & 0       & 0.469   & 6.421   & 78.9    & 4.9671  & 2       & 242     & 17.8    & 396.90  & 9.14    & 21.6   \\\\\n",
       "\t 0.02729 &  0      & 7.07    & 0       & 0.469   & 7.185   & 61.1    & 4.9671  & 2       & 242     & 17.8    & 392.83  & 4.03    & 34.7   \\\\\n",
       "\t 0.03237 &  0      & 2.18    & 0       & 0.458   & 6.998   & 45.8    & 6.0622  & 3       & 222     & 18.7    & 394.63  & 2.94    & 33.4   \\\\\n",
       "\t 0.06905 &  0      & 2.18    & 0       & 0.458   & 7.147   & 54.2    & 6.0622  & 3       & 222     & 18.7    & 396.90  & 5.33    & 36.2   \\\\\n",
       "\t 0.02985 &  0      & 2.18    & 0       & 0.458   & 6.430   & 58.7    & 6.0622  & 3       & 222     & 18.7    & 394.12  & 5.21    & 28.7   \\\\\n",
       "\\end{tabular}\n"
      ],
      "text/markdown": [
       "\n",
       "| crim | zn | indus | chas | nox | rm | age | dis | rad | tax | ptratio | black | lstat | medv |\n",
       "|---|---|---|---|---|---|---|---|---|---|---|---|---|---|\n",
       "| 0.00632 | 18      | 2.31    | 0       | 0.538   | 6.575   | 65.2    | 4.0900  | 1       | 296     | 15.3    | 396.90  | 4.98    | 24.0    |\n",
       "| 0.02731 |  0      | 7.07    | 0       | 0.469   | 6.421   | 78.9    | 4.9671  | 2       | 242     | 17.8    | 396.90  | 9.14    | 21.6    |\n",
       "| 0.02729 |  0      | 7.07    | 0       | 0.469   | 7.185   | 61.1    | 4.9671  | 2       | 242     | 17.8    | 392.83  | 4.03    | 34.7    |\n",
       "| 0.03237 |  0      | 2.18    | 0       | 0.458   | 6.998   | 45.8    | 6.0622  | 3       | 222     | 18.7    | 394.63  | 2.94    | 33.4    |\n",
       "| 0.06905 |  0      | 2.18    | 0       | 0.458   | 7.147   | 54.2    | 6.0622  | 3       | 222     | 18.7    | 396.90  | 5.33    | 36.2    |\n",
       "| 0.02985 |  0      | 2.18    | 0       | 0.458   | 6.430   | 58.7    | 6.0622  | 3       | 222     | 18.7    | 394.12  | 5.21    | 28.7    |\n",
       "\n"
      ],
      "text/plain": [
       "  crim    zn indus chas nox   rm    age  dis    rad tax ptratio black  lstat\n",
       "1 0.00632 18 2.31  0    0.538 6.575 65.2 4.0900 1   296 15.3    396.90 4.98 \n",
       "2 0.02731  0 7.07  0    0.469 6.421 78.9 4.9671 2   242 17.8    396.90 9.14 \n",
       "3 0.02729  0 7.07  0    0.469 7.185 61.1 4.9671 2   242 17.8    392.83 4.03 \n",
       "4 0.03237  0 2.18  0    0.458 6.998 45.8 6.0622 3   222 18.7    394.63 2.94 \n",
       "5 0.06905  0 2.18  0    0.458 7.147 54.2 6.0622 3   222 18.7    396.90 5.33 \n",
       "6 0.02985  0 2.18  0    0.458 6.430 58.7 6.0622 3   222 18.7    394.12 5.21 \n",
       "  medv\n",
       "1 24.0\n",
       "2 21.6\n",
       "3 34.7\n",
       "4 33.4\n",
       "5 36.2\n",
       "6 28.7"
      ]
     },
     "metadata": {},
     "output_type": "display_data"
    }
   ],
   "source": [
    "#Investigate the dataset \n",
    "str(Boston)\n",
    "\n",
    "head(Boston)"
   ]
  },
  {
   "cell_type": "markdown",
   "metadata": {},
   "source": [
    "### Pairwise scatterplots"
   ]
  },
  {
   "cell_type": "code",
   "execution_count": null,
   "metadata": {},
   "outputs": [],
   "source": [
    "#Pairwise - Auto and selected"
   ]
  },
  {
   "cell_type": "code",
   "execution_count": 133,
   "metadata": {},
   "outputs": [
    {
     "data": {
      "image/png": "[encoded data removed]",
      "text/plain": [
       "plot without title"
      ]
     },
     "metadata": {},
     "output_type": "display_data"
    }
   ],
   "source": [
    "pairs(Boston)"
   ]
  },
  {
   "cell_type": "code",
   "execution_count": 135,
   "metadata": {},
   "outputs": [
    {
     "data": {
      "image/png": "[encoded data removed]",
      "text/plain": [
       "plot without title"
      ]
     },
     "metadata": {},
     "output_type": "display_data"
    }
   ],
   "source": [
    "pairs(~ crim + ptratio + medv + tax + dis, Boston)"
   ]
  },
  {
   "cell_type": "markdown",
   "metadata": {},
   "source": [
    "Crime related to teacher pupil ratio. and other than that zn relates to indus, nox, age, lstat etc"
   ]
  },
  {
   "cell_type": "markdown",
   "metadata": {},
   "source": [
    "#### c. any predictors related to crime?"
   ]
  },
  {
   "cell_type": "code",
   "execution_count": 136,
   "metadata": {},
   "outputs": [
    {
     "data": {
      "image/png": "[encoded data removed]",
      "text/plain": [
       "plot without title"
      ]
     },
     "metadata": {},
     "output_type": "display_data"
    }
   ],
   "source": [
    "# proportion of owner-occupied units built prior to 1940\n",
    "plot(Boston$age,Boston$crim)"
   ]
  },
  {
   "cell_type": "code",
   "execution_count": 26,
   "metadata": {},
   "outputs": [
    {
     "data": {
      "image/png": "[encoded data removed]",
      "text/plain": [
       "plot without title"
      ]
     },
     "metadata": {},
     "output_type": "display_data"
    }
   ],
   "source": [
    "#crim :per capita crime rate by town\n",
    "# zn: proportion of residential land zoned for lots over 25,000 sq.ft.\n",
    "ggplot(Boston, aes(x=zn, y=crim)) + \n",
    "  geom_point()+\n",
    "  geom_smooth(method=lm, se=FALSE)"
   ]
  },
  {
   "cell_type": "code",
   "execution_count": null,
   "metadata": {},
   "outputs": [],
   "source": [
    "ggplot(Boston, aes(x=tax, y=crim)) + \n",
    "  geom_point()+\n",
    "  geom_smooth(method=lm, se=FALSE)"
   ]
  },
  {
   "cell_type": "code",
   "execution_count": 33,
   "metadata": {},
   "outputs": [
    {
     "data": {
      "image/png": "[encoded data removed]",
      "text/plain": [
       "plot without title"
      ]
     },
     "metadata": {},
     "output_type": "display_data"
    }
   ],
   "source": [
    "ggplot(Boston, aes(x=rm, y=medv)) + \n",
    "  geom_point()+\n",
    "  geom_smooth(method=lm, se=FALSE)"
   ]
  },
  {
   "cell_type": "code",
   "execution_count": 34,
   "metadata": {},
   "outputs": [
    {
     "data": {
      "image/png": "[encoded data removed]",
      "text/plain": [
       "plot without title"
      ]
     },
     "metadata": {},
     "output_type": "display_data"
    }
   ],
   "source": [
    "ggplot(Boston, aes(x=zn, y=rm)) + \n",
    "  geom_point()+\n",
    "  geom_smooth(method=lm, se=FALSE)"
   ]
  },
  {
   "cell_type": "code",
   "execution_count": 35,
   "metadata": {},
   "outputs": [
    {
     "data": {
      "image/png": "[encoded data removed]",
      "text/plain": [
       "plot without title"
      ]
     },
     "metadata": {},
     "output_type": "display_data"
    }
   ],
   "source": [
    "ggplot(Boston, aes(x=tax, y=medv)) + \n",
    "  geom_point()+\n",
    "  geom_smooth(method=lm, se=FALSE)"
   ]
  },
  {
   "cell_type": "code",
   "execution_count": 39,
   "metadata": {},
   "outputs": [
    {
     "data": {
      "image/png": "[encoded data removed]",
      "text/plain": [
       "plot without title"
      ]
     },
     "metadata": {},
     "output_type": "display_data"
    }
   ],
   "source": [
    "ggplot(Boston, aes(x=nox, y=medv)) + \n",
    "  geom_point()+\n",
    "  geom_smooth(method=lm, se=FALSE)"
   ]
  },
  {
   "cell_type": "code",
   "execution_count": 40,
   "metadata": {},
   "outputs": [
    {
     "data": {
      "image/png": "[encoded data removed]",
      "text/plain": [
       "plot without title"
      ]
     },
     "metadata": {},
     "output_type": "display_data"
    }
   ],
   "source": [
    "ggplot(Boston, aes(x=rad, y=medv)) + \n",
    "  geom_point()+\n",
    "  geom_smooth(method=lm, se=FALSE)"
   ]
  },
  {
   "cell_type": "code",
   "execution_count": 44,
   "metadata": {},
   "outputs": [
    {
     "data": {
      "image/png": "[encoded data removed]",
      "text/plain": [
       "plot without title"
      ]
     },
     "metadata": {},
     "output_type": "display_data"
    }
   ],
   "source": [
    "ggplot(Boston, aes(x=indus, y=tax)) + \n",
    "  geom_point()+\n",
    "  geom_smooth(method=lm, se=FALSE)"
   ]
  },
  {
   "cell_type": "code",
   "execution_count": 46,
   "metadata": {},
   "outputs": [
    {
     "data": {
      "image/png": "[encoded data removed]",
      "text/plain": [
       "plot without title"
      ]
     },
     "metadata": {},
     "output_type": "display_data"
    }
   ],
   "source": [
    "ggplot(Boston, aes(x=ptratio, y=crim)) + \n",
    "  geom_point()+\n",
    "  geom_smooth(method=lm, se=FALSE)"
   ]
  },
  {
   "cell_type": "markdown",
   "metadata": {},
   "source": [
    "#### c. Are any of the predictors associated with per capita crime rate?"
   ]
  },
  {
   "cell_type": "markdown",
   "metadata": {},
   "source": [
    "The proportion of owner-occupied units built prior to 1940 (age) may influence on per capita crime rate. It may indicate that criminals may reside in the areas where there are old houses and slums. It has a positive relationship."
   ]
  },
  {
   "cell_type": "markdown",
   "metadata": {},
   "source": [
    "It seems that closer to work-area, there is more crime."
   ]
  },
  {
   "cell_type": "markdown",
   "metadata": {},
   "source": [
    "According to thz Higher index of accessibility to radial highways it shows more crime."
   ]
  },
  {
   "cell_type": "markdown",
   "metadata": {},
   "source": [
    "It can be clearly seen that when there is higher pupil:teacher ratio, more crime."
   ]
  },
  {
   "cell_type": "markdown",
   "metadata": {},
   "source": [
    "#### d. Range of the predictors  - high crime rates, Tax rates, Pupil-teacher ratio"
   ]
  },
  {
   "cell_type": "code",
   "execution_count": null,
   "metadata": {},
   "outputs": [],
   "source": [
    "#high crime rate\n",
    "#plot(Boston$crim)"
   ]
  },
  {
   "cell_type": "code",
   "execution_count": 145,
   "metadata": {},
   "outputs": [
    {
     "data": {
      "text/plain": [
       "    Min.  1st Qu.   Median     Mean  3rd Qu.     Max. \n",
       " 0.00632  0.08204  0.25651  3.61352  3.67708 88.97620 "
      ]
     },
     "metadata": {},
     "output_type": "display_data"
    }
   ],
   "source": [
    "#Here you could see it ranges from 0.00632 to 88.97620 percent\n",
    "summary(Boston$crim)"
   ]
  },
  {
   "cell_type": "code",
   "execution_count": 153,
   "metadata": {},
   "outputs": [
    {
     "data": {
      "text/html": [
       "<ol class=list-inline>\n",
       "\t<li>187</li>\n",
       "\t<li>711</li>\n",
       "</ol>\n"
      ],
      "text/latex": [
       "\\begin{enumerate*}\n",
       "\\item 187\n",
       "\\item 711\n",
       "\\end{enumerate*}\n"
      ],
      "text/markdown": [
       "1. 187\n",
       "2. 711\n",
       "\n",
       "\n"
      ],
      "text/plain": [
       "[1] 187 711"
      ]
     },
     "metadata": {},
     "output_type": "display_data"
    }
   ],
   "source": [
    "#Tax rate range\n",
    "#Minimum of 187 to maximum of 711\n",
    "range(Boston$tax)"
   ]
  },
  {
   "cell_type": "code",
   "execution_count": 154,
   "metadata": {},
   "outputs": [
    {
     "data": {
      "text/html": [
       "<ol class=list-inline>\n",
       "\t<li>12.6</li>\n",
       "\t<li>22</li>\n",
       "</ol>\n"
      ],
      "text/latex": [
       "\\begin{enumerate*}\n",
       "\\item 12.6\n",
       "\\item 22\n",
       "\\end{enumerate*}\n"
      ],
      "text/markdown": [
       "1. 12.6\n",
       "2. 22\n",
       "\n",
       "\n"
      ],
      "text/plain": [
       "[1] 12.6 22.0"
      ]
     },
     "metadata": {},
     "output_type": "display_data"
    }
   ],
   "source": [
    "#Pupil-teacher ratio by town\n",
    "#Minimum of 12.6 to maximum of 22\n",
    "range(Boston$ptratio)"
   ]
  },
  {
   "cell_type": "markdown",
   "metadata": {},
   "source": [
    "#### e. How many of the suburbs in this data set bound the Charles river"
   ]
  },
  {
   "cell_type": "code",
   "execution_count": 138,
   "metadata": {},
   "outputs": [
    {
     "data": {
      "text/html": [
       "35"
      ],
      "text/latex": [
       "35"
      ],
      "text/markdown": [
       "35"
      ],
      "text/plain": [
       "[1] 35"
      ]
     },
     "metadata": {},
     "output_type": "display_data"
    }
   ],
   "source": [
    "#Because chas is a dummy variable and they have used 1 and 0 we can use sum\n",
    "sum(Boston$chas)"
   ]
  },
  {
   "cell_type": "markdown",
   "metadata": {},
   "source": [
    "#### f. What is the median pupil-teacher ratio among the towns in this data set?"
   ]
  },
  {
   "cell_type": "code",
   "execution_count": 139,
   "metadata": {},
   "outputs": [
    {
     "data": {
      "text/html": [
       "19.05"
      ],
      "text/latex": [
       "19.05"
      ],
      "text/markdown": [
       "19.05"
      ],
      "text/plain": [
       "[1] 19.05"
      ]
     },
     "metadata": {},
     "output_type": "display_data"
    }
   ],
   "source": [
    "median(Boston$ptratio)"
   ]
  },
  {
   "cell_type": "markdown",
   "metadata": {},
   "source": [
    "#### g. Which suburb of Boston has lowest median value of owneroccupied homes?"
   ]
  },
  {
   "cell_type": "code",
   "execution_count": 140,
   "metadata": {},
   "outputs": [
    {
     "data": {
      "text/html": [
       "<table>\n",
       "<thead><tr><th></th><th scope=col>crim</th><th scope=col>zn</th><th scope=col>indus</th><th scope=col>chas</th><th scope=col>nox</th><th scope=col>rm</th><th scope=col>age</th><th scope=col>dis</th><th scope=col>rad</th><th scope=col>tax</th><th scope=col>ptratio</th><th scope=col>black</th><th scope=col>lstat</th><th scope=col>medv</th></tr></thead>\n",
       "<tbody>\n",
       "\t<tr><th scope=row>399</th><td>38.3518</td><td>0      </td><td>18.1   </td><td>0      </td><td>0.693  </td><td>5.453  </td><td>100    </td><td>1.4896 </td><td>24     </td><td>666    </td><td>20.2   </td><td>396.90 </td><td>30.59  </td><td>5      </td></tr>\n",
       "\t<tr><th scope=row>406</th><td>67.9208</td><td>0      </td><td>18.1   </td><td>0      </td><td>0.693  </td><td>5.683  </td><td>100    </td><td>1.4254 </td><td>24     </td><td>666    </td><td>20.2   </td><td>384.97 </td><td>22.98  </td><td>5      </td></tr>\n",
       "</tbody>\n",
       "</table>\n"
      ],
      "text/latex": [
       "\\begin{tabular}{r|llllllllllllll}\n",
       "  & crim & zn & indus & chas & nox & rm & age & dis & rad & tax & ptratio & black & lstat & medv\\\\\n",
       "\\hline\n",
       "\t399 & 38.3518 & 0       & 18.1    & 0       & 0.693   & 5.453   & 100     & 1.4896  & 24      & 666     & 20.2    & 396.90  & 30.59   & 5      \\\\\n",
       "\t406 & 67.9208 & 0       & 18.1    & 0       & 0.693   & 5.683   & 100     & 1.4254  & 24      & 666     & 20.2    & 384.97  & 22.98   & 5      \\\\\n",
       "\\end{tabular}\n"
      ],
      "text/markdown": [
       "\n",
       "| <!--/--> | crim | zn | indus | chas | nox | rm | age | dis | rad | tax | ptratio | black | lstat | medv |\n",
       "|---|---|---|---|---|---|---|---|---|---|---|---|---|---|---|\n",
       "| 399 | 38.3518 | 0       | 18.1    | 0       | 0.693   | 5.453   | 100     | 1.4896  | 24      | 666     | 20.2    | 396.90  | 30.59   | 5       |\n",
       "| 406 | 67.9208 | 0       | 18.1    | 0       | 0.693   | 5.683   | 100     | 1.4254  | 24      | 666     | 20.2    | 384.97  | 22.98   | 5       |\n",
       "\n"
      ],
      "text/plain": [
       "    crim    zn indus chas nox   rm    age dis    rad tax ptratio black  lstat\n",
       "399 38.3518 0  18.1  0    0.693 5.453 100 1.4896 24  666 20.2    396.90 30.59\n",
       "406 67.9208 0  18.1  0    0.693 5.683 100 1.4254 24  666 20.2    384.97 22.98\n",
       "    medv\n",
       "399 5   \n",
       "406 5   "
      ]
     },
     "metadata": {},
     "output_type": "display_data"
    }
   ],
   "source": [
    "#Boston[Boston$medv==min(Boston[,\"medv\"]),]\n",
    "Boston[Boston$medv==min(Boston$medv),]"
   ]
  },
  {
   "cell_type": "markdown",
   "metadata": {},
   "source": [
    "Since it is the minimum average value I believe it is not a bad place to live (It could have been worse)"
   ]
  },
  {
   "cell_type": "markdown",
   "metadata": {},
   "source": [
    "#### h. In this data set, how many of the suburbs average more than seven rooms per dwelling? More than eight rooms per dwelling?"
   ]
  },
  {
   "cell_type": "code",
   "execution_count": 122,
   "metadata": {},
   "outputs": [
    {
     "data": {
      "text/plain": [
       "\n",
       "FALSE  TRUE \n",
       " 6578   506 "
      ]
     },
     "metadata": {},
     "output_type": "display_data"
    }
   ],
   "source": [
    "table(Boston$rm==Boston[\"rm\">7])"
   ]
  },
  {
   "cell_type": "code",
   "execution_count": 127,
   "metadata": {},
   "outputs": [
    {
     "data": {
      "text/plain": [
       "\n",
       "FALSE  TRUE \n",
       " 6578   506 "
      ]
     },
     "metadata": {},
     "output_type": "display_data"
    }
   ],
   "source": [
    "table(Boston$rm==Boston[\"rm\">8])"
   ]
  },
  {
   "cell_type": "code",
   "execution_count": 227,
   "metadata": {},
   "outputs": [
    {
     "data": {
      "text/html": [
       "<ol class=list-inline>\n",
       "\t<li>64</li>\n",
       "\t<li>14</li>\n",
       "</ol>\n"
      ],
      "text/latex": [
       "\\begin{enumerate*}\n",
       "\\item 64\n",
       "\\item 14\n",
       "\\end{enumerate*}\n"
      ],
      "text/markdown": [
       "1. 64\n",
       "2. 14\n",
       "\n",
       "\n"
      ],
      "text/plain": [
       "[1] 64 14"
      ]
     },
     "metadata": {},
     "output_type": "display_data"
    }
   ],
   "source": [
    "\n",
    "dim(subset(Boston, rm > 7))"
   ]
  },
  {
   "cell_type": "code",
   "execution_count": 228,
   "metadata": {},
   "outputs": [
    {
     "data": {
      "text/html": [
       "<ol class=list-inline>\n",
       "\t<li>13</li>\n",
       "\t<li>14</li>\n",
       "</ol>\n"
      ],
      "text/latex": [
       "\\begin{enumerate*}\n",
       "\\item 13\n",
       "\\item 14\n",
       "\\end{enumerate*}\n"
      ],
      "text/markdown": [
       "1. 13\n",
       "2. 14\n",
       "\n",
       "\n"
      ],
      "text/plain": [
       "[1] 13 14"
      ]
     },
     "metadata": {},
     "output_type": "display_data"
    }
   ],
   "source": [
    "dim(subset(Boston, rm > 8))"
   ]
  },
  {
   "cell_type": "code",
   "execution_count": 229,
   "metadata": {},
   "outputs": [
    {
     "data": {
      "text/plain": [
       "      crim               zn            indus             chas       \n",
       " Min.   :0.02009   Min.   : 0.00   Min.   : 2.680   Min.   :0.0000  \n",
       " 1st Qu.:0.33147   1st Qu.: 0.00   1st Qu.: 3.970   1st Qu.:0.0000  \n",
       " Median :0.52014   Median : 0.00   Median : 6.200   Median :0.0000  \n",
       " Mean   :0.71879   Mean   :13.62   Mean   : 7.078   Mean   :0.1538  \n",
       " 3rd Qu.:0.57834   3rd Qu.:20.00   3rd Qu.: 6.200   3rd Qu.:0.0000  \n",
       " Max.   :3.47428   Max.   :95.00   Max.   :19.580   Max.   :1.0000  \n",
       "      nox               rm             age             dis       \n",
       " Min.   :0.4161   Min.   :8.034   Min.   : 8.40   Min.   :1.801  \n",
       " 1st Qu.:0.5040   1st Qu.:8.247   1st Qu.:70.40   1st Qu.:2.288  \n",
       " Median :0.5070   Median :8.297   Median :78.30   Median :2.894  \n",
       " Mean   :0.5392   Mean   :8.349   Mean   :71.54   Mean   :3.430  \n",
       " 3rd Qu.:0.6050   3rd Qu.:8.398   3rd Qu.:86.50   3rd Qu.:3.652  \n",
       " Max.   :0.7180   Max.   :8.780   Max.   :93.90   Max.   :8.907  \n",
       "      rad              tax           ptratio          black      \n",
       " Min.   : 2.000   Min.   :224.0   Min.   :13.00   Min.   :354.6  \n",
       " 1st Qu.: 5.000   1st Qu.:264.0   1st Qu.:14.70   1st Qu.:384.5  \n",
       " Median : 7.000   Median :307.0   Median :17.40   Median :386.9  \n",
       " Mean   : 7.462   Mean   :325.1   Mean   :16.36   Mean   :385.2  \n",
       " 3rd Qu.: 8.000   3rd Qu.:307.0   3rd Qu.:17.40   3rd Qu.:389.7  \n",
       " Max.   :24.000   Max.   :666.0   Max.   :20.20   Max.   :396.9  \n",
       "     lstat           medv     \n",
       " Min.   :2.47   Min.   :21.9  \n",
       " 1st Qu.:3.32   1st Qu.:41.7  \n",
       " Median :4.14   Median :48.3  \n",
       " Mean   :4.31   Mean   :44.2  \n",
       " 3rd Qu.:5.12   3rd Qu.:50.0  \n",
       " Max.   :7.44   Max.   :50.0  "
      ]
     },
     "metadata": {},
     "output_type": "display_data"
    }
   ],
   "source": [
    "summary(subset(Boston, rm > 8))"
   ]
  },
  {
   "cell_type": "markdown",
   "metadata": {},
   "source": [
    "It has comparatively a low crime rate"
   ]
  },
  {
   "cell_type": "markdown",
   "metadata": {},
   "source": [
    "### CHAPTER 3"
   ]
  },
  {
   "cell_type": "code",
   "execution_count": null,
   "metadata": {},
   "outputs": [],
   "source": [
    "#3 (p.120, Chap.3), 10 (p.123, Chap.3) and 15\n",
    "#(p.126, Chap.3)"
   ]
  },
  {
   "cell_type": "markdown",
   "metadata": {},
   "source": [
    "### Exercise 3"
   ]
  },
  {
   "cell_type": "markdown",
   "metadata": {},
   "source": [
    "\n",
    "#### (a) Which answer is correct, and why?"
   ]
  },
  {
   "cell_type": "code",
   "execution_count": null,
   "metadata": {},
   "outputs": [],
   "source": [
    "# Equation y=mx+b-e\n",
    " Y = 50 + 20(gpa) + 0.07(iq) + 35(gender) + 0.01(gpa * iq) - 10 (gpa * gender)\n"
   ]
  },
  {
   "cell_type": "code",
   "execution_count": null,
   "metadata": {},
   "outputs": [],
   "source": [
    "# substituting values\n",
    "# male: (gender = 0)\n",
    "# female: (gender = 1)\n",
    "\n",
    "male: 50 + 20 gpa + 0.07 iq + (35*0) + 0.01(gpa * iq)- 10 (gpa * 0)\n",
    "female: 50 + 20 gpa + 0.07 iq + (35*1) + 0.01(gpa * iq) - 10 (gpa*1)"
   ]
  },
  {
   "cell_type": "code",
   "execution_count": null,
   "metadata": {},
   "outputs": [],
   "source": [
    "# i= not always, hence false"
   ]
  },
  {
   "cell_type": "code",
   "execution_count": null,
   "metadata": {},
   "outputs": [],
   "source": [
    "#ii = not always, hence false"
   ]
  },
  {
   "cell_type": "code",
   "execution_count": null,
   "metadata": {},
   "outputs": [],
   "source": [
    "#iii= When GPA is high enough men would earn more - true"
   ]
  },
  {
   "cell_type": "code",
   "execution_count": null,
   "metadata": {},
   "outputs": [],
   "source": [
    "#iv = GPA needs to be lower, hence false"
   ]
  },
  {
   "cell_type": "markdown",
   "metadata": {},
   "source": [
    "#### b. Predict the salary of a female with IQ of 110 and a GPA of 4.0."
   ]
  },
  {
   "cell_type": "code",
   "execution_count": null,
   "metadata": {},
   "outputs": [],
   "source": [
    "# iq=110 gpa=4.0\n",
    "#female: 50 + 20 gpa + 0.07 iq + (35*1) + 0.01(gpa * iq) - 10 (gpa*1)"
   ]
  },
  {
   "cell_type": "code",
   "execution_count": 157,
   "metadata": {},
   "outputs": [],
   "source": [
    "salary= 50 + (20 *4) + (0.07 * 110) + (35*1) + 0.01*(4 * 110) - 10*(4*1)"
   ]
  },
  {
   "cell_type": "code",
   "execution_count": 158,
   "metadata": {},
   "outputs": [
    {
     "data": {
      "text/html": [
       "137.1"
      ],
      "text/latex": [
       "137.1"
      ],
      "text/markdown": [
       "137.1"
      ],
      "text/plain": [
       "[1] 137.1"
      ]
     },
     "metadata": {},
     "output_type": "display_data"
    }
   ],
   "source": [
    "salary"
   ]
  },
  {
   "cell_type": "markdown",
   "metadata": {},
   "source": [
    "#### c. True or false: Since the coefficient for the GPA/IQ interaction term is very small, there is very little evidence of an interaction effect. Justify your answer."
   ]
  },
  {
   "cell_type": "markdown",
   "metadata": {},
   "source": [
    "It would depend on the values assigned on the GPA and IQ. We must also examine the p-value as well"
   ]
  },
  {
   "cell_type": "markdown",
   "metadata": {},
   "source": [
    "### Exercise 10"
   ]
  },
  {
   "cell_type": "code",
   "execution_count": 159,
   "metadata": {},
   "outputs": [
    {
     "name": "stderr",
     "output_type": "stream",
     "text": [
      "Warning message:\n",
      "\"package 'ISLR' was built under R version 3.6.2\""
     ]
    }
   ],
   "source": [
    "library(ISLR)"
   ]
  },
  {
   "cell_type": "code",
   "execution_count": 160,
   "metadata": {},
   "outputs": [
    {
     "data": {
      "text/plain": [
       "     Sales          CompPrice       Income        Advertising    \n",
       " Min.   : 0.000   Min.   : 77   Min.   : 21.00   Min.   : 0.000  \n",
       " 1st Qu.: 5.390   1st Qu.:115   1st Qu.: 42.75   1st Qu.: 0.000  \n",
       " Median : 7.490   Median :125   Median : 69.00   Median : 5.000  \n",
       " Mean   : 7.496   Mean   :125   Mean   : 68.66   Mean   : 6.635  \n",
       " 3rd Qu.: 9.320   3rd Qu.:135   3rd Qu.: 91.00   3rd Qu.:12.000  \n",
       " Max.   :16.270   Max.   :175   Max.   :120.00   Max.   :29.000  \n",
       "   Population        Price        ShelveLoc        Age          Education   \n",
       " Min.   : 10.0   Min.   : 24.0   Bad   : 96   Min.   :25.00   Min.   :10.0  \n",
       " 1st Qu.:139.0   1st Qu.:100.0   Good  : 85   1st Qu.:39.75   1st Qu.:12.0  \n",
       " Median :272.0   Median :117.0   Medium:219   Median :54.50   Median :14.0  \n",
       " Mean   :264.8   Mean   :115.8                Mean   :53.32   Mean   :13.9  \n",
       " 3rd Qu.:398.5   3rd Qu.:131.0                3rd Qu.:66.00   3rd Qu.:16.0  \n",
       " Max.   :509.0   Max.   :191.0                Max.   :80.00   Max.   :18.0  \n",
       " Urban       US     \n",
       " No :118   No :142  \n",
       " Yes:282   Yes:258  \n",
       "                    \n",
       "                    \n",
       "                    \n",
       "                    "
      ]
     },
     "metadata": {},
     "output_type": "display_data"
    }
   ],
   "source": [
    "summary(Carseats)"
   ]
  },
  {
   "cell_type": "code",
   "execution_count": 164,
   "metadata": {},
   "outputs": [],
   "source": [
    "?Carseats"
   ]
  },
  {
   "cell_type": "markdown",
   "metadata": {},
   "source": [
    "##### a.Fit a multiple regression model to predict Sales using Price,Urban, and US."
   ]
  },
  {
   "cell_type": "code",
   "execution_count": 161,
   "metadata": {},
   "outputs": [
    {
     "data": {
      "text/plain": [
       "\n",
       "Call:\n",
       "lm(formula = Sales ~ Price + Urban + US, data = Carseats)\n",
       "\n",
       "Residuals:\n",
       "    Min      1Q  Median      3Q     Max \n",
       "-6.9206 -1.6220 -0.0564  1.5786  7.0581 \n",
       "\n",
       "Coefficients:\n",
       "             Estimate Std. Error t value Pr(>|t|)    \n",
       "(Intercept) 13.043469   0.651012  20.036  < 2e-16 ***\n",
       "Price       -0.054459   0.005242 -10.389  < 2e-16 ***\n",
       "UrbanYes    -0.021916   0.271650  -0.081    0.936    \n",
       "USYes        1.200573   0.259042   4.635 4.86e-06 ***\n",
       "---\n",
       "Signif. codes:  0 '***' 0.001 '**' 0.01 '*' 0.05 '.' 0.1 ' ' 1\n",
       "\n",
       "Residual standard error: 2.472 on 396 degrees of freedom\n",
       "Multiple R-squared:  0.2393,\tAdjusted R-squared:  0.2335 \n",
       "F-statistic: 41.52 on 3 and 396 DF,  p-value: < 2.2e-16\n"
      ]
     },
     "metadata": {},
     "output_type": "display_data"
    }
   ],
   "source": [
    "lm.fit = lm(Sales~Price+Urban+US, data=Carseats)\n",
    "summary(lm.fit)"
   ]
  },
  {
   "cell_type": "markdown",
   "metadata": {},
   "source": [
    "#### b.  Provide an interpretation of each coefficient in the model"
   ]
  },
  {
   "cell_type": "markdown",
   "metadata": {},
   "source": [
    "1. The coefficient shows that there is a negative relationship between Price and Sales: as Price increases, Sales decreases.\n",
    "2.  there is a relationship between whether the store is in the US or not and the amount of sales (the coefficient states a positive relationship). If the store is in the US, the sales will increase  "
   ]
  },
  {
   "cell_type": "markdown",
   "metadata": {},
   "source": [
    "#### c. Write out the model in equation form, being careful to handle the qualitative variables properly."
   ]
  },
  {
   "cell_type": "markdown",
   "metadata": {},
   "source": [
    "#Yes=1 No=0\n",
    "\n",
    "Sales = 13.04 + -0.05 Price + -0.02 UrbanYes + 1.20 USYes"
   ]
  },
  {
   "cell_type": "markdown",
   "metadata": {},
   "source": [
    "#### d. For which of the predictors can you reject the null hypothesis\n",
    "H0 : βj = 0?"
   ]
  },
  {
   "cell_type": "markdown",
   "metadata": {},
   "source": [
    "Price and USYes based on p values"
   ]
  },
  {
   "cell_type": "markdown",
   "metadata": {},
   "source": [
    "#### e. On the basis of your response to the previous question, fit a smaller model that only uses the predictors for which there is evidence of association with the outcome."
   ]
  },
  {
   "cell_type": "code",
   "execution_count": 172,
   "metadata": {},
   "outputs": [
    {
     "data": {
      "text/plain": [
       "\n",
       "Call:\n",
       "lm(formula = Sales ~ Price + US, data = Carseats)\n",
       "\n",
       "Residuals:\n",
       "    Min      1Q  Median      3Q     Max \n",
       "-6.9269 -1.6286 -0.0574  1.5766  7.0515 \n",
       "\n",
       "Coefficients:\n",
       "            Estimate Std. Error t value Pr(>|t|)    \n",
       "(Intercept) 13.03079    0.63098  20.652  < 2e-16 ***\n",
       "Price       -0.05448    0.00523 -10.416  < 2e-16 ***\n",
       "USYes        1.19964    0.25846   4.641 4.71e-06 ***\n",
       "---\n",
       "Signif. codes:  0 '***' 0.001 '**' 0.01 '*' 0.05 '.' 0.1 ' ' 1\n",
       "\n",
       "Residual standard error: 2.469 on 397 degrees of freedom\n",
       "Multiple R-squared:  0.2393,\tAdjusted R-squared:  0.2354 \n",
       "F-statistic: 62.43 on 2 and 397 DF,  p-value: < 2.2e-16\n"
      ]
     },
     "metadata": {},
     "output_type": "display_data"
    }
   ],
   "source": [
    "lm.fit_USP = lm(Sales~Price+US, data=Carseats)\n",
    "summary(lm.fit)"
   ]
  },
  {
   "cell_type": "markdown",
   "metadata": {},
   "source": [
    "#### f. How well do the models in (a) and (e) fit the data?"
   ]
  },
  {
   "cell_type": "markdown",
   "metadata": {},
   "source": [
    "Both fit the data similarly, with linear regression from (e) fitting the data slightly better. F-statistic has improved"
   ]
  },
  {
   "cell_type": "markdown",
   "metadata": {},
   "source": [
    "#### g. Using the model from (e), obtain 95 % confidence intervals for the coefficient(s).\n"
   ]
  },
  {
   "cell_type": "code",
   "execution_count": 178,
   "metadata": {},
   "outputs": [],
   "source": [
    "#conf_interval <- predict(lm.fit_USP, interval=\"confidence\",\n",
    "        #                 level = 0.95)\n",
    "#conf_interval\n",
    "\n"
   ]
  },
  {
   "cell_type": "code",
   "execution_count": 175,
   "metadata": {},
   "outputs": [],
   "source": [
    "conf95_USP=confint(lm.fit_USP, level=0.95)"
   ]
  },
  {
   "cell_type": "code",
   "execution_count": 176,
   "metadata": {},
   "outputs": [
    {
     "data": {
      "text/html": [
       "<table>\n",
       "<thead><tr><th></th><th scope=col>2.5 %</th><th scope=col>97.5 %</th></tr></thead>\n",
       "<tbody>\n",
       "\t<tr><th scope=row>(Intercept)</th><td>11.79032020</td><td>14.27126531</td></tr>\n",
       "\t<tr><th scope=row>Price</th><td>-0.06475984</td><td>-0.04419543</td></tr>\n",
       "\t<tr><th scope=row>USYes</th><td> 0.69151957</td><td> 1.70776632</td></tr>\n",
       "</tbody>\n",
       "</table>\n"
      ],
      "text/latex": [
       "\\begin{tabular}{r|ll}\n",
       "  & 2.5 \\% & 97.5 \\%\\\\\n",
       "\\hline\n",
       "\t(Intercept) & 11.79032020 & 14.27126531\\\\\n",
       "\tPrice & -0.06475984 & -0.04419543\\\\\n",
       "\tUSYes &  0.69151957 &  1.70776632\\\\\n",
       "\\end{tabular}\n"
      ],
      "text/markdown": [
       "\n",
       "| <!--/--> | 2.5 % | 97.5 % |\n",
       "|---|---|---|\n",
       "| (Intercept) | 11.79032020 | 14.27126531 |\n",
       "| Price | -0.06475984 | -0.04419543 |\n",
       "| USYes |  0.69151957 |  1.70776632 |\n",
       "\n"
      ],
      "text/plain": [
       "            2.5 %       97.5 %     \n",
       "(Intercept) 11.79032020 14.27126531\n",
       "Price       -0.06475984 -0.04419543\n",
       "USYes        0.69151957  1.70776632"
      ]
     },
     "metadata": {},
     "output_type": "display_data"
    }
   ],
   "source": [
    "conf95_USP"
   ]
  },
  {
   "cell_type": "markdown",
   "metadata": {},
   "source": [
    "#### h. Is there evidence of outliers or high leverage observations in the model from (e)?"
   ]
  },
  {
   "cell_type": "code",
   "execution_count": 177,
   "metadata": {},
   "outputs": [
    {
     "data": {
      "image/png": "[encoded data removed]",
      "text/plain": [
       "Plot with title \"\""
      ]
     },
     "metadata": {},
     "output_type": "display_data"
    }
   ],
   "source": [
    "par(mfrow=c(2,2))\n",
    "plot(lm.fit_USP)"
   ]
  },
  {
   "cell_type": "markdown",
   "metadata": {},
   "source": [
    "According to the plots, yes there are some outliers"
   ]
  },
  {
   "cell_type": "markdown",
   "metadata": {},
   "source": [
    "### Exercise 15"
   ]
  },
  {
   "cell_type": "markdown",
   "metadata": {},
   "source": [
    "##### a.  For each predictor, fit a simple linear regression model to predict the response. "
   ]
  },
  {
   "cell_type": "code",
   "execution_count": null,
   "metadata": {},
   "outputs": [],
   "source": [
    "#Response = percapita crime rate"
   ]
  },
  {
   "cell_type": "code",
   "execution_count": 200,
   "metadata": {},
   "outputs": [
    {
     "data": {
      "text/plain": [
       "\n",
       "Call:\n",
       "lm(formula = crim ~ zn, data = Boston)\n",
       "\n",
       "Residuals:\n",
       "   Min     1Q Median     3Q    Max \n",
       "-4.429 -4.222 -2.620  1.250 84.523 \n",
       "\n",
       "Coefficients:\n",
       "            Estimate Std. Error t value Pr(>|t|)    \n",
       "(Intercept)  4.45369    0.41722  10.675  < 2e-16 ***\n",
       "zn          -0.07393    0.01609  -4.594 5.51e-06 ***\n",
       "---\n",
       "Signif. codes:  0 '***' 0.001 '**' 0.01 '*' 0.05 '.' 0.1 ' ' 1\n",
       "\n",
       "Residual standard error: 8.435 on 504 degrees of freedom\n",
       "Multiple R-squared:  0.04019,\tAdjusted R-squared:  0.03828 \n",
       "F-statistic:  21.1 on 1 and 504 DF,  p-value: 5.506e-06\n"
      ]
     },
     "metadata": {},
     "output_type": "display_data"
    }
   ],
   "source": [
    "lm.zn = lm(crim~zn, data =Boston)\n",
    "summary(lm.zn)"
   ]
  },
  {
   "cell_type": "code",
   "execution_count": 201,
   "metadata": {},
   "outputs": [
    {
     "data": {
      "text/plain": [
       "\n",
       "Call:\n",
       "lm(formula = crim ~ zn, data = Boston)\n",
       "\n",
       "Residuals:\n",
       "   Min     1Q Median     3Q    Max \n",
       "-4.429 -4.222 -2.620  1.250 84.523 \n",
       "\n",
       "Coefficients:\n",
       "            Estimate Std. Error t value Pr(>|t|)    \n",
       "(Intercept)  4.45369    0.41722  10.675  < 2e-16 ***\n",
       "zn          -0.07393    0.01609  -4.594 5.51e-06 ***\n",
       "---\n",
       "Signif. codes:  0 '***' 0.001 '**' 0.01 '*' 0.05 '.' 0.1 ' ' 1\n",
       "\n",
       "Residual standard error: 8.435 on 504 degrees of freedom\n",
       "Multiple R-squared:  0.04019,\tAdjusted R-squared:  0.03828 \n",
       "F-statistic:  21.1 on 1 and 504 DF,  p-value: 5.506e-06\n"
      ]
     },
     "metadata": {},
     "output_type": "display_data"
    }
   ],
   "source": [
    "lm.indus = lm(crim~indus, data =Boston)\n",
    "summary(lm.zn)"
   ]
  },
  {
   "cell_type": "code",
   "execution_count": 182,
   "metadata": {},
   "outputs": [
    {
     "data": {
      "text/plain": [
       "\n",
       "Call:\n",
       "lm(formula = crim ~ chas, data = Boston)\n",
       "\n",
       "Residuals:\n",
       "   Min     1Q Median     3Q    Max \n",
       "-3.738 -3.661 -3.435  0.018 85.232 \n",
       "\n",
       "Coefficients:\n",
       "            Estimate Std. Error t value Pr(>|t|)    \n",
       "(Intercept)   3.7444     0.3961   9.453   <2e-16 ***\n",
       "chas         -1.8928     1.5061  -1.257    0.209    \n",
       "---\n",
       "Signif. codes:  0 '***' 0.001 '**' 0.01 '*' 0.05 '.' 0.1 ' ' 1\n",
       "\n",
       "Residual standard error: 8.597 on 504 degrees of freedom\n",
       "Multiple R-squared:  0.003124,\tAdjusted R-squared:  0.001146 \n",
       "F-statistic: 1.579 on 1 and 504 DF,  p-value: 0.2094\n"
      ]
     },
     "metadata": {},
     "output_type": "display_data"
    }
   ],
   "source": [
    "lm.chas = lm(crim~chas, data =Boston)\n",
    "summary(lm.chas)"
   ]
  },
  {
   "cell_type": "code",
   "execution_count": 183,
   "metadata": {},
   "outputs": [
    {
     "data": {
      "text/plain": [
       "\n",
       "Call:\n",
       "lm(formula = crim ~ nox, data = Boston)\n",
       "\n",
       "Residuals:\n",
       "    Min      1Q  Median      3Q     Max \n",
       "-12.371  -2.738  -0.974   0.559  81.728 \n",
       "\n",
       "Coefficients:\n",
       "            Estimate Std. Error t value Pr(>|t|)    \n",
       "(Intercept)  -13.720      1.699  -8.073 5.08e-15 ***\n",
       "nox           31.249      2.999  10.419  < 2e-16 ***\n",
       "---\n",
       "Signif. codes:  0 '***' 0.001 '**' 0.01 '*' 0.05 '.' 0.1 ' ' 1\n",
       "\n",
       "Residual standard error: 7.81 on 504 degrees of freedom\n",
       "Multiple R-squared:  0.1772,\tAdjusted R-squared:  0.1756 \n",
       "F-statistic: 108.6 on 1 and 504 DF,  p-value: < 2.2e-16\n"
      ]
     },
     "metadata": {},
     "output_type": "display_data"
    }
   ],
   "source": [
    "lm.nox = lm(crim~nox, data =Boston)\n",
    "summary(lm.nox)"
   ]
  },
  {
   "cell_type": "code",
   "execution_count": 184,
   "metadata": {},
   "outputs": [
    {
     "data": {
      "text/plain": [
       "\n",
       "Call:\n",
       "lm(formula = crim ~ rm, data = Boston)\n",
       "\n",
       "Residuals:\n",
       "   Min     1Q Median     3Q    Max \n",
       "-6.604 -3.952 -2.654  0.989 87.197 \n",
       "\n",
       "Coefficients:\n",
       "            Estimate Std. Error t value Pr(>|t|)    \n",
       "(Intercept)   20.482      3.365   6.088 2.27e-09 ***\n",
       "rm            -2.684      0.532  -5.045 6.35e-07 ***\n",
       "---\n",
       "Signif. codes:  0 '***' 0.001 '**' 0.01 '*' 0.05 '.' 0.1 ' ' 1\n",
       "\n",
       "Residual standard error: 8.401 on 504 degrees of freedom\n",
       "Multiple R-squared:  0.04807,\tAdjusted R-squared:  0.04618 \n",
       "F-statistic: 25.45 on 1 and 504 DF,  p-value: 6.347e-07\n"
      ]
     },
     "metadata": {},
     "output_type": "display_data"
    }
   ],
   "source": [
    "lm.rm = lm(crim~rm, data =Boston)\n",
    "summary(lm.rm)"
   ]
  },
  {
   "cell_type": "code",
   "execution_count": 185,
   "metadata": {},
   "outputs": [
    {
     "data": {
      "text/plain": [
       "\n",
       "Call:\n",
       "lm(formula = crim ~ age, data = Boston)\n",
       "\n",
       "Residuals:\n",
       "   Min     1Q Median     3Q    Max \n",
       "-6.789 -4.257 -1.230  1.527 82.849 \n",
       "\n",
       "Coefficients:\n",
       "            Estimate Std. Error t value Pr(>|t|)    \n",
       "(Intercept) -3.77791    0.94398  -4.002 7.22e-05 ***\n",
       "age          0.10779    0.01274   8.463 2.85e-16 ***\n",
       "---\n",
       "Signif. codes:  0 '***' 0.001 '**' 0.01 '*' 0.05 '.' 0.1 ' ' 1\n",
       "\n",
       "Residual standard error: 8.057 on 504 degrees of freedom\n",
       "Multiple R-squared:  0.1244,\tAdjusted R-squared:  0.1227 \n",
       "F-statistic: 71.62 on 1 and 504 DF,  p-value: 2.855e-16\n"
      ]
     },
     "metadata": {},
     "output_type": "display_data"
    }
   ],
   "source": [
    "lm.age = lm(crim~age, data =Boston)\n",
    "summary(lm.age)"
   ]
  },
  {
   "cell_type": "code",
   "execution_count": 186,
   "metadata": {},
   "outputs": [
    {
     "data": {
      "text/plain": [
       "\n",
       "Call:\n",
       "lm(formula = crim ~ dis, data = Boston)\n",
       "\n",
       "Residuals:\n",
       "   Min     1Q Median     3Q    Max \n",
       "-6.708 -4.134 -1.527  1.516 81.674 \n",
       "\n",
       "Coefficients:\n",
       "            Estimate Std. Error t value Pr(>|t|)    \n",
       "(Intercept)   9.4993     0.7304  13.006   <2e-16 ***\n",
       "dis          -1.5509     0.1683  -9.213   <2e-16 ***\n",
       "---\n",
       "Signif. codes:  0 '***' 0.001 '**' 0.01 '*' 0.05 '.' 0.1 ' ' 1\n",
       "\n",
       "Residual standard error: 7.965 on 504 degrees of freedom\n",
       "Multiple R-squared:  0.1441,\tAdjusted R-squared:  0.1425 \n",
       "F-statistic: 84.89 on 1 and 504 DF,  p-value: < 2.2e-16\n"
      ]
     },
     "metadata": {},
     "output_type": "display_data"
    }
   ],
   "source": [
    "lm.dis = lm(crim~dis, data =Boston)\n",
    "summary(lm.dis)"
   ]
  },
  {
   "cell_type": "code",
   "execution_count": 187,
   "metadata": {},
   "outputs": [
    {
     "data": {
      "text/plain": [
       "\n",
       "Call:\n",
       "lm(formula = crim ~ rad, data = Boston)\n",
       "\n",
       "Residuals:\n",
       "    Min      1Q  Median      3Q     Max \n",
       "-10.164  -1.381  -0.141   0.660  76.433 \n",
       "\n",
       "Coefficients:\n",
       "            Estimate Std. Error t value Pr(>|t|)    \n",
       "(Intercept) -2.28716    0.44348  -5.157 3.61e-07 ***\n",
       "rad          0.61791    0.03433  17.998  < 2e-16 ***\n",
       "---\n",
       "Signif. codes:  0 '***' 0.001 '**' 0.01 '*' 0.05 '.' 0.1 ' ' 1\n",
       "\n",
       "Residual standard error: 6.718 on 504 degrees of freedom\n",
       "Multiple R-squared:  0.3913,\tAdjusted R-squared:   0.39 \n",
       "F-statistic: 323.9 on 1 and 504 DF,  p-value: < 2.2e-16\n"
      ]
     },
     "metadata": {},
     "output_type": "display_data"
    }
   ],
   "source": [
    "lm.rad = lm(crim~rad, data =Boston)\n",
    "summary(lm.rad)"
   ]
  },
  {
   "cell_type": "code",
   "execution_count": 188,
   "metadata": {},
   "outputs": [
    {
     "data": {
      "text/plain": [
       "\n",
       "Call:\n",
       "lm(formula = crim ~ tax, data = Boston)\n",
       "\n",
       "Residuals:\n",
       "    Min      1Q  Median      3Q     Max \n",
       "-12.513  -2.738  -0.194   1.065  77.696 \n",
       "\n",
       "Coefficients:\n",
       "             Estimate Std. Error t value Pr(>|t|)    \n",
       "(Intercept) -8.528369   0.815809  -10.45   <2e-16 ***\n",
       "tax          0.029742   0.001847   16.10   <2e-16 ***\n",
       "---\n",
       "Signif. codes:  0 '***' 0.001 '**' 0.01 '*' 0.05 '.' 0.1 ' ' 1\n",
       "\n",
       "Residual standard error: 6.997 on 504 degrees of freedom\n",
       "Multiple R-squared:  0.3396,\tAdjusted R-squared:  0.3383 \n",
       "F-statistic: 259.2 on 1 and 504 DF,  p-value: < 2.2e-16\n"
      ]
     },
     "metadata": {},
     "output_type": "display_data"
    }
   ],
   "source": [
    "lm.tax = lm(crim~tax, data =Boston)\n",
    "summary(lm.tax)"
   ]
  },
  {
   "cell_type": "code",
   "execution_count": 189,
   "metadata": {},
   "outputs": [
    {
     "data": {
      "text/plain": [
       "\n",
       "Call:\n",
       "lm(formula = crim ~ ptratio, data = Boston)\n",
       "\n",
       "Residuals:\n",
       "   Min     1Q Median     3Q    Max \n",
       "-7.654 -3.985 -1.912  1.825 83.353 \n",
       "\n",
       "Coefficients:\n",
       "            Estimate Std. Error t value Pr(>|t|)    \n",
       "(Intercept) -17.6469     3.1473  -5.607 3.40e-08 ***\n",
       "ptratio       1.1520     0.1694   6.801 2.94e-11 ***\n",
       "---\n",
       "Signif. codes:  0 '***' 0.001 '**' 0.01 '*' 0.05 '.' 0.1 ' ' 1\n",
       "\n",
       "Residual standard error: 8.24 on 504 degrees of freedom\n",
       "Multiple R-squared:  0.08407,\tAdjusted R-squared:  0.08225 \n",
       "F-statistic: 46.26 on 1 and 504 DF,  p-value: 2.943e-11\n"
      ]
     },
     "metadata": {},
     "output_type": "display_data"
    }
   ],
   "source": [
    "lm.ptratio = lm(crim~ptratio, data =Boston)\n",
    "summary(lm.ptratio)"
   ]
  },
  {
   "cell_type": "code",
   "execution_count": 190,
   "metadata": {},
   "outputs": [
    {
     "data": {
      "text/plain": [
       "\n",
       "Call:\n",
       "lm(formula = crim ~ black, data = Boston)\n",
       "\n",
       "Residuals:\n",
       "    Min      1Q  Median      3Q     Max \n",
       "-13.756  -2.299  -2.095  -1.296  86.822 \n",
       "\n",
       "Coefficients:\n",
       "             Estimate Std. Error t value Pr(>|t|)    \n",
       "(Intercept) 16.553529   1.425903  11.609   <2e-16 ***\n",
       "black       -0.036280   0.003873  -9.367   <2e-16 ***\n",
       "---\n",
       "Signif. codes:  0 '***' 0.001 '**' 0.01 '*' 0.05 '.' 0.1 ' ' 1\n",
       "\n",
       "Residual standard error: 7.946 on 504 degrees of freedom\n",
       "Multiple R-squared:  0.1483,\tAdjusted R-squared:  0.1466 \n",
       "F-statistic: 87.74 on 1 and 504 DF,  p-value: < 2.2e-16\n"
      ]
     },
     "metadata": {},
     "output_type": "display_data"
    }
   ],
   "source": [
    "lm.black = lm(crim~black, data =Boston)\n",
    "summary(lm.black)"
   ]
  },
  {
   "cell_type": "code",
   "execution_count": 191,
   "metadata": {},
   "outputs": [
    {
     "data": {
      "text/plain": [
       "\n",
       "Call:\n",
       "lm(formula = crim ~ lstat, data = Boston)\n",
       "\n",
       "Residuals:\n",
       "    Min      1Q  Median      3Q     Max \n",
       "-13.925  -2.822  -0.664   1.079  82.862 \n",
       "\n",
       "Coefficients:\n",
       "            Estimate Std. Error t value Pr(>|t|)    \n",
       "(Intercept) -3.33054    0.69376  -4.801 2.09e-06 ***\n",
       "lstat        0.54880    0.04776  11.491  < 2e-16 ***\n",
       "---\n",
       "Signif. codes:  0 '***' 0.001 '**' 0.01 '*' 0.05 '.' 0.1 ' ' 1\n",
       "\n",
       "Residual standard error: 7.664 on 504 degrees of freedom\n",
       "Multiple R-squared:  0.2076,\tAdjusted R-squared:  0.206 \n",
       "F-statistic:   132 on 1 and 504 DF,  p-value: < 2.2e-16\n"
      ]
     },
     "metadata": {},
     "output_type": "display_data"
    }
   ],
   "source": [
    "lm.lstat = lm(crim~lstat, data =Boston)\n",
    "summary(lm.lstat)"
   ]
  },
  {
   "cell_type": "code",
   "execution_count": 192,
   "metadata": {},
   "outputs": [
    {
     "data": {
      "text/plain": [
       "\n",
       "Call:\n",
       "lm(formula = crim ~ medv, data = Boston)\n",
       "\n",
       "Residuals:\n",
       "   Min     1Q Median     3Q    Max \n",
       "-9.071 -4.022 -2.343  1.298 80.957 \n",
       "\n",
       "Coefficients:\n",
       "            Estimate Std. Error t value Pr(>|t|)    \n",
       "(Intercept) 11.79654    0.93419   12.63   <2e-16 ***\n",
       "medv        -0.36316    0.03839   -9.46   <2e-16 ***\n",
       "---\n",
       "Signif. codes:  0 '***' 0.001 '**' 0.01 '*' 0.05 '.' 0.1 ' ' 1\n",
       "\n",
       "Residual standard error: 7.934 on 504 degrees of freedom\n",
       "Multiple R-squared:  0.1508,\tAdjusted R-squared:  0.1491 \n",
       "F-statistic: 89.49 on 1 and 504 DF,  p-value: < 2.2e-16\n"
      ]
     },
     "metadata": {},
     "output_type": "display_data"
    }
   ],
   "source": [
    "lm.medv = lm(crim~medv, data =Boston)\n",
    "summary(lm.medv)"
   ]
  },
  {
   "cell_type": "markdown",
   "metadata": {},
   "source": [
    " All predictors seem to have high associations with crime except for the predictor \"chas\" which has a negative insignificant value"
   ]
  },
  {
   "cell_type": "code",
   "execution_count": 195,
   "metadata": {},
   "outputs": [
    {
     "data": {
      "image/png": "[encoded data removed]",
      "text/plain": [
       "Plot with title \"\""
      ]
     },
     "metadata": {},
     "output_type": "display_data"
    }
   ],
   "source": [
    "#Example: plots for age predictor vs plots for chas\n",
    "\n",
    "#age\n",
    "par(mfrow=c(2,2))\n",
    "plot(lm.age)"
   ]
  },
  {
   "cell_type": "code",
   "execution_count": 196,
   "metadata": {},
   "outputs": [
    {
     "data": {
      "image/png": "[encoded data removed]",
      "text/plain": [
       "Plot with title \"\""
      ]
     },
     "metadata": {},
     "output_type": "display_data"
    }
   ],
   "source": [
    "#chas\n",
    "par(mfrow=c(2,2))\n",
    "plot(lm.chas)\n"
   ]
  },
  {
   "cell_type": "markdown",
   "metadata": {},
   "source": [
    "#### b.  Fit a multiple regression model to predict the response using all of the predictors. Describe your results. For which predictorscan we reject the null hypothesis H0 : βj = 0?"
   ]
  },
  {
   "cell_type": "code",
   "execution_count": 198,
   "metadata": {},
   "outputs": [
    {
     "data": {
      "text/plain": [
       "\n",
       "Call:\n",
       "lm(formula = crim ~ ., data = Boston)\n",
       "\n",
       "Residuals:\n",
       "   Min     1Q Median     3Q    Max \n",
       "-9.924 -2.120 -0.353  1.019 75.051 \n",
       "\n",
       "Coefficients:\n",
       "              Estimate Std. Error t value Pr(>|t|)    \n",
       "(Intercept)  17.033228   7.234903   2.354 0.018949 *  \n",
       "zn            0.044855   0.018734   2.394 0.017025 *  \n",
       "indus        -0.063855   0.083407  -0.766 0.444294    \n",
       "chas         -0.749134   1.180147  -0.635 0.525867    \n",
       "nox         -10.313535   5.275536  -1.955 0.051152 .  \n",
       "rm            0.430131   0.612830   0.702 0.483089    \n",
       "age           0.001452   0.017925   0.081 0.935488    \n",
       "dis          -0.987176   0.281817  -3.503 0.000502 ***\n",
       "rad           0.588209   0.088049   6.680 6.46e-11 ***\n",
       "tax          -0.003780   0.005156  -0.733 0.463793    \n",
       "ptratio      -0.271081   0.186450  -1.454 0.146611    \n",
       "black        -0.007538   0.003673  -2.052 0.040702 *  \n",
       "lstat         0.126211   0.075725   1.667 0.096208 .  \n",
       "medv         -0.198887   0.060516  -3.287 0.001087 ** \n",
       "---\n",
       "Signif. codes:  0 '***' 0.001 '**' 0.01 '*' 0.05 '.' 0.1 ' ' 1\n",
       "\n",
       "Residual standard error: 6.439 on 492 degrees of freedom\n",
       "Multiple R-squared:  0.454,\tAdjusted R-squared:  0.4396 \n",
       "F-statistic: 31.47 on 13 and 492 DF,  p-value: < 2.2e-16\n"
      ]
     },
     "metadata": {},
     "output_type": "display_data"
    }
   ],
   "source": [
    "lm.boston = lm(crim~., data=Boston)\n",
    "summary(lm.boston)"
   ]
  },
  {
   "cell_type": "code",
   "execution_count": null,
   "metadata": {},
   "outputs": [],
   "source": [
    "#According to above we could reject null hypothesis for zn, dis, rad, black, medv"
   ]
  },
  {
   "cell_type": "markdown",
   "metadata": {},
   "source": [
    "#### c.How do your results from (a) compare to your results from (b)? Create a plot displaying the univariate regression coefficients from (a) on the x-axis, and the multiple regression coefficients from (b) on the y-axis"
   ]
  },
  {
   "cell_type": "markdown",
   "metadata": {},
   "source": [
    "There are differences in the coefficients as wells as the standard error and t values"
   ]
  },
  {
   "cell_type": "code",
   "execution_count": 207,
   "metadata": {},
   "outputs": [
    {
     "data": {
      "text/html": [
       "<dl class=dl-horizontal>\n",
       "\t<dt>(Intercept)</dt>\n",
       "\t\t<dd>17.0332275226345</dd>\n",
       "\t<dt>zn</dt>\n",
       "\t\t<dd>0.0448552146700322</dd>\n",
       "\t<dt>indus</dt>\n",
       "\t\t<dd>-0.0638548235876993</dd>\n",
       "\t<dt>chas</dt>\n",
       "\t\t<dd>-0.7491336105106</dd>\n",
       "\t<dt>nox</dt>\n",
       "\t\t<dd>-10.3135349120667</dd>\n",
       "\t<dt>rm</dt>\n",
       "\t\t<dd>0.430130505864047</dd>\n",
       "\t<dt>age</dt>\n",
       "\t\t<dd>0.0014516434361821</dd>\n",
       "\t<dt>dis</dt>\n",
       "\t\t<dd>-0.987175725502888</dd>\n",
       "\t<dt>rad</dt>\n",
       "\t\t<dd>0.588208591473491</dd>\n",
       "\t<dt>tax</dt>\n",
       "\t\t<dd>-0.00378001638485914</dd>\n",
       "\t<dt>ptratio</dt>\n",
       "\t\t<dd>-0.271080558472254</dd>\n",
       "\t<dt>black</dt>\n",
       "\t\t<dd>-0.00753750488849204</dd>\n",
       "\t<dt>lstat</dt>\n",
       "\t\t<dd>0.1262113764595</dd>\n",
       "\t<dt>medv</dt>\n",
       "\t\t<dd>-0.198886821265619</dd>\n",
       "</dl>\n"
      ],
      "text/latex": [
       "\\begin{description*}\n",
       "\\item[(Intercept)] 17.0332275226345\n",
       "\\item[zn] 0.0448552146700322\n",
       "\\item[indus] -0.0638548235876993\n",
       "\\item[chas] -0.7491336105106\n",
       "\\item[nox] -10.3135349120667\n",
       "\\item[rm] 0.430130505864047\n",
       "\\item[age] 0.0014516434361821\n",
       "\\item[dis] -0.987175725502888\n",
       "\\item[rad] 0.588208591473491\n",
       "\\item[tax] -0.00378001638485914\n",
       "\\item[ptratio] -0.271080558472254\n",
       "\\item[black] -0.00753750488849204\n",
       "\\item[lstat] 0.1262113764595\n",
       "\\item[medv] -0.198886821265619\n",
       "\\end{description*}\n"
      ],
      "text/markdown": [
       "(Intercept)\n",
       ":   17.0332275226345zn\n",
       ":   0.0448552146700322indus\n",
       ":   -0.0638548235876993chas\n",
       ":   -0.7491336105106nox\n",
       ":   -10.3135349120667rm\n",
       ":   0.430130505864047age\n",
       ":   0.0014516434361821dis\n",
       ":   -0.987175725502888rad\n",
       ":   0.588208591473491tax\n",
       ":   -0.00378001638485914ptratio\n",
       ":   -0.271080558472254black\n",
       ":   -0.00753750488849204lstat\n",
       ":   0.1262113764595medv\n",
       ":   -0.198886821265619\n",
       "\n"
      ],
      "text/plain": [
       "  (Intercept)            zn         indus          chas           nox \n",
       " 17.033227523   0.044855215  -0.063854824  -0.749133611 -10.313534912 \n",
       "           rm           age           dis           rad           tax \n",
       "  0.430130506   0.001451643  -0.987175726   0.588208591  -0.003780016 \n",
       "      ptratio         black         lstat          medv \n",
       " -0.271080558  -0.007537505   0.126211376  -0.198886821 "
      ]
     },
     "metadata": {},
     "output_type": "display_data"
    }
   ],
   "source": [
    "coef(lm.boston)"
   ]
  },
  {
   "cell_type": "code",
   "execution_count": 206,
   "metadata": {},
   "outputs": [
    {
     "data": {
      "image/png": "[encoded data removed]",
      "text/plain": [
       "plot without title"
      ]
     },
     "metadata": {},
     "output_type": "display_data"
    }
   ],
   "source": [
    "x = c(coefficients(lm.zn)[2],\n",
    "      coefficients(lm.indus)[2],\n",
    "      coefficients(lm.chas)[2],\n",
    "      coefficients(lm.nox)[2],\n",
    "      coefficients(lm.rm)[2],\n",
    "      coefficients(lm.age)[2],\n",
    "      coefficients(lm.dis)[2],\n",
    "      coefficients(lm.rad)[2],\n",
    "      coefficients(lm.tax)[2],\n",
    "      coefficients(lm.ptratio)[2],\n",
    "      coefficients(lm.black)[2],\n",
    "      coefficients(lm.lstat)[2],\n",
    "      coefficients(lm.medv)[2])\n",
    "y = coefficients(lm.boston)[2:14]\n",
    "plot(x, y)"
   ]
  },
  {
   "cell_type": "markdown",
   "metadata": {},
   "source": [
    "#### d. Is there evidence of non-linear association between any of the predictors and the response?"
   ]
  },
  {
   "cell_type": "code",
   "execution_count": 209,
   "metadata": {},
   "outputs": [
    {
     "data": {
      "text/plain": [
       "\n",
       "Call:\n",
       "lm(formula = crim ~ poly(zn, 3), data = Boston)\n",
       "\n",
       "Residuals:\n",
       "   Min     1Q Median     3Q    Max \n",
       "-4.821 -4.614 -1.294  0.473 84.130 \n",
       "\n",
       "Coefficients:\n",
       "             Estimate Std. Error t value Pr(>|t|)    \n",
       "(Intercept)    3.6135     0.3722   9.709  < 2e-16 ***\n",
       "poly(zn, 3)1 -38.7498     8.3722  -4.628  4.7e-06 ***\n",
       "poly(zn, 3)2  23.9398     8.3722   2.859  0.00442 ** \n",
       "poly(zn, 3)3 -10.0719     8.3722  -1.203  0.22954    \n",
       "---\n",
       "Signif. codes:  0 '***' 0.001 '**' 0.01 '*' 0.05 '.' 0.1 ' ' 1\n",
       "\n",
       "Residual standard error: 8.372 on 502 degrees of freedom\n",
       "Multiple R-squared:  0.05824,\tAdjusted R-squared:  0.05261 \n",
       "F-statistic: 10.35 on 3 and 502 DF,  p-value: 1.281e-06\n"
      ]
     },
     "metadata": {},
     "output_type": "display_data"
    }
   ],
   "source": [
    "lm.zn = lm(crim~poly(zn,3), data=Boston)\n",
    "summary(lm.zn)"
   ]
  },
  {
   "cell_type": "code",
   "execution_count": 210,
   "metadata": {},
   "outputs": [
    {
     "data": {
      "text/plain": [
       "\n",
       "Call:\n",
       "lm(formula = crim ~ poly(indus, 3), data = Boston)\n",
       "\n",
       "Residuals:\n",
       "   Min     1Q Median     3Q    Max \n",
       "-8.278 -2.514  0.054  0.764 79.713 \n",
       "\n",
       "Coefficients:\n",
       "                Estimate Std. Error t value Pr(>|t|)    \n",
       "(Intercept)        3.614      0.330  10.950  < 2e-16 ***\n",
       "poly(indus, 3)1   78.591      7.423  10.587  < 2e-16 ***\n",
       "poly(indus, 3)2  -24.395      7.423  -3.286  0.00109 ** \n",
       "poly(indus, 3)3  -54.130      7.423  -7.292  1.2e-12 ***\n",
       "---\n",
       "Signif. codes:  0 '***' 0.001 '**' 0.01 '*' 0.05 '.' 0.1 ' ' 1\n",
       "\n",
       "Residual standard error: 7.423 on 502 degrees of freedom\n",
       "Multiple R-squared:  0.2597,\tAdjusted R-squared:  0.2552 \n",
       "F-statistic: 58.69 on 3 and 502 DF,  p-value: < 2.2e-16\n"
      ]
     },
     "metadata": {},
     "output_type": "display_data"
    }
   ],
   "source": [
    "lm.indus = lm(crim~poly(indus,3), data=Boston)\n",
    "summary(lm.indus)"
   ]
  },
  {
   "cell_type": "code",
   "execution_count": 211,
   "metadata": {},
   "outputs": [
    {
     "data": {
      "text/plain": [
       "\n",
       "Call:\n",
       "lm(formula = crim ~ poly(nox, 3), data = Boston)\n",
       "\n",
       "Residuals:\n",
       "   Min     1Q Median     3Q    Max \n",
       "-9.110 -2.068 -0.255  0.739 78.302 \n",
       "\n",
       "Coefficients:\n",
       "              Estimate Std. Error t value Pr(>|t|)    \n",
       "(Intercept)     3.6135     0.3216  11.237  < 2e-16 ***\n",
       "poly(nox, 3)1  81.3720     7.2336  11.249  < 2e-16 ***\n",
       "poly(nox, 3)2 -28.8286     7.2336  -3.985 7.74e-05 ***\n",
       "poly(nox, 3)3 -60.3619     7.2336  -8.345 6.96e-16 ***\n",
       "---\n",
       "Signif. codes:  0 '***' 0.001 '**' 0.01 '*' 0.05 '.' 0.1 ' ' 1\n",
       "\n",
       "Residual standard error: 7.234 on 502 degrees of freedom\n",
       "Multiple R-squared:  0.297,\tAdjusted R-squared:  0.2928 \n",
       "F-statistic: 70.69 on 3 and 502 DF,  p-value: < 2.2e-16\n"
      ]
     },
     "metadata": {},
     "output_type": "display_data"
    }
   ],
   "source": [
    "lm.nox = lm(crim~poly(nox,3), data=Boston)\n",
    "summary(lm.nox)"
   ]
  },
  {
   "cell_type": "code",
   "execution_count": 212,
   "metadata": {},
   "outputs": [
    {
     "data": {
      "text/plain": [
       "\n",
       "Call:\n",
       "lm(formula = crim ~ poly(rm, 3), data = Boston)\n",
       "\n",
       "Residuals:\n",
       "    Min      1Q  Median      3Q     Max \n",
       "-18.485  -3.468  -2.221  -0.015  87.219 \n",
       "\n",
       "Coefficients:\n",
       "             Estimate Std. Error t value Pr(>|t|)    \n",
       "(Intercept)    3.6135     0.3703   9.758  < 2e-16 ***\n",
       "poly(rm, 3)1 -42.3794     8.3297  -5.088 5.13e-07 ***\n",
       "poly(rm, 3)2  26.5768     8.3297   3.191  0.00151 ** \n",
       "poly(rm, 3)3  -5.5103     8.3297  -0.662  0.50858    \n",
       "---\n",
       "Signif. codes:  0 '***' 0.001 '**' 0.01 '*' 0.05 '.' 0.1 ' ' 1\n",
       "\n",
       "Residual standard error: 8.33 on 502 degrees of freedom\n",
       "Multiple R-squared:  0.06779,\tAdjusted R-squared:  0.06222 \n",
       "F-statistic: 12.17 on 3 and 502 DF,  p-value: 1.067e-07\n"
      ]
     },
     "metadata": {},
     "output_type": "display_data"
    }
   ],
   "source": [
    "lm.rm = lm(crim~poly(rm,3), data=Boston)\n",
    "summary(lm.rm) "
   ]
  },
  {
   "cell_type": "code",
   "execution_count": 213,
   "metadata": {},
   "outputs": [
    {
     "data": {
      "text/plain": [
       "\n",
       "Call:\n",
       "lm(formula = crim ~ poly(age, 3), data = Boston)\n",
       "\n",
       "Residuals:\n",
       "   Min     1Q Median     3Q    Max \n",
       "-9.762 -2.673 -0.516  0.019 82.842 \n",
       "\n",
       "Coefficients:\n",
       "              Estimate Std. Error t value Pr(>|t|)    \n",
       "(Intercept)     3.6135     0.3485  10.368  < 2e-16 ***\n",
       "poly(age, 3)1  68.1820     7.8397   8.697  < 2e-16 ***\n",
       "poly(age, 3)2  37.4845     7.8397   4.781 2.29e-06 ***\n",
       "poly(age, 3)3  21.3532     7.8397   2.724  0.00668 ** \n",
       "---\n",
       "Signif. codes:  0 '***' 0.001 '**' 0.01 '*' 0.05 '.' 0.1 ' ' 1\n",
       "\n",
       "Residual standard error: 7.84 on 502 degrees of freedom\n",
       "Multiple R-squared:  0.1742,\tAdjusted R-squared:  0.1693 \n",
       "F-statistic: 35.31 on 3 and 502 DF,  p-value: < 2.2e-16\n"
      ]
     },
     "metadata": {},
     "output_type": "display_data"
    }
   ],
   "source": [
    "lm.age = lm(crim~poly(age,3), data=Boston)\n",
    "summary(lm.age)"
   ]
  },
  {
   "cell_type": "code",
   "execution_count": 214,
   "metadata": {},
   "outputs": [
    {
     "data": {
      "text/plain": [
       "\n",
       "Call:\n",
       "lm(formula = crim ~ poly(dis, 3), data = Boston)\n",
       "\n",
       "Residuals:\n",
       "    Min      1Q  Median      3Q     Max \n",
       "-10.757  -2.588   0.031   1.267  76.378 \n",
       "\n",
       "Coefficients:\n",
       "              Estimate Std. Error t value Pr(>|t|)    \n",
       "(Intercept)     3.6135     0.3259  11.087  < 2e-16 ***\n",
       "poly(dis, 3)1 -73.3886     7.3315 -10.010  < 2e-16 ***\n",
       "poly(dis, 3)2  56.3730     7.3315   7.689 7.87e-14 ***\n",
       "poly(dis, 3)3 -42.6219     7.3315  -5.814 1.09e-08 ***\n",
       "---\n",
       "Signif. codes:  0 '***' 0.001 '**' 0.01 '*' 0.05 '.' 0.1 ' ' 1\n",
       "\n",
       "Residual standard error: 7.331 on 502 degrees of freedom\n",
       "Multiple R-squared:  0.2778,\tAdjusted R-squared:  0.2735 \n",
       "F-statistic: 64.37 on 3 and 502 DF,  p-value: < 2.2e-16\n"
      ]
     },
     "metadata": {},
     "output_type": "display_data"
    }
   ],
   "source": [
    "lm.dis = lm(crim~poly(dis,3), data=Boston)\n",
    "summary(lm.dis)"
   ]
  },
  {
   "cell_type": "code",
   "execution_count": 215,
   "metadata": {},
   "outputs": [
    {
     "data": {
      "text/plain": [
       "\n",
       "Call:\n",
       "lm(formula = crim ~ poly(rad, 3), data = Boston)\n",
       "\n",
       "Residuals:\n",
       "    Min      1Q  Median      3Q     Max \n",
       "-10.381  -0.412  -0.269   0.179  76.217 \n",
       "\n",
       "Coefficients:\n",
       "              Estimate Std. Error t value Pr(>|t|)    \n",
       "(Intercept)     3.6135     0.2971  12.164  < 2e-16 ***\n",
       "poly(rad, 3)1 120.9074     6.6824  18.093  < 2e-16 ***\n",
       "poly(rad, 3)2  17.4923     6.6824   2.618  0.00912 ** \n",
       "poly(rad, 3)3   4.6985     6.6824   0.703  0.48231    \n",
       "---\n",
       "Signif. codes:  0 '***' 0.001 '**' 0.01 '*' 0.05 '.' 0.1 ' ' 1\n",
       "\n",
       "Residual standard error: 6.682 on 502 degrees of freedom\n",
       "Multiple R-squared:    0.4,\tAdjusted R-squared:  0.3965 \n",
       "F-statistic: 111.6 on 3 and 502 DF,  p-value: < 2.2e-16\n"
      ]
     },
     "metadata": {},
     "output_type": "display_data"
    }
   ],
   "source": [
    "lm.rad = lm(crim~poly(rad,3), data=Boston)\n",
    "summary(lm.rad)"
   ]
  },
  {
   "cell_type": "code",
   "execution_count": 216,
   "metadata": {},
   "outputs": [
    {
     "data": {
      "text/plain": [
       "\n",
       "Call:\n",
       "lm(formula = crim ~ poly(tax, 3), data = Boston)\n",
       "\n",
       "Residuals:\n",
       "    Min      1Q  Median      3Q     Max \n",
       "-13.273  -1.389   0.046   0.536  76.950 \n",
       "\n",
       "Coefficients:\n",
       "              Estimate Std. Error t value Pr(>|t|)    \n",
       "(Intercept)     3.6135     0.3047  11.860  < 2e-16 ***\n",
       "poly(tax, 3)1 112.6458     6.8537  16.436  < 2e-16 ***\n",
       "poly(tax, 3)2  32.0873     6.8537   4.682 3.67e-06 ***\n",
       "poly(tax, 3)3  -7.9968     6.8537  -1.167    0.244    \n",
       "---\n",
       "Signif. codes:  0 '***' 0.001 '**' 0.01 '*' 0.05 '.' 0.1 ' ' 1\n",
       "\n",
       "Residual standard error: 6.854 on 502 degrees of freedom\n",
       "Multiple R-squared:  0.3689,\tAdjusted R-squared:  0.3651 \n",
       "F-statistic:  97.8 on 3 and 502 DF,  p-value: < 2.2e-16\n"
      ]
     },
     "metadata": {},
     "output_type": "display_data"
    }
   ],
   "source": [
    "lm.tax = lm(crim~poly(tax,3), data=Boston)\n",
    "summary(lm.tax)"
   ]
  },
  {
   "cell_type": "code",
   "execution_count": 217,
   "metadata": {},
   "outputs": [
    {
     "data": {
      "text/plain": [
       "\n",
       "Call:\n",
       "lm(formula = crim ~ poly(ptratio, 3), data = Boston)\n",
       "\n",
       "Residuals:\n",
       "   Min     1Q Median     3Q    Max \n",
       "-6.833 -4.146 -1.655  1.408 82.697 \n",
       "\n",
       "Coefficients:\n",
       "                  Estimate Std. Error t value Pr(>|t|)    \n",
       "(Intercept)          3.614      0.361  10.008  < 2e-16 ***\n",
       "poly(ptratio, 3)1   56.045      8.122   6.901 1.57e-11 ***\n",
       "poly(ptratio, 3)2   24.775      8.122   3.050  0.00241 ** \n",
       "poly(ptratio, 3)3  -22.280      8.122  -2.743  0.00630 ** \n",
       "---\n",
       "Signif. codes:  0 '***' 0.001 '**' 0.01 '*' 0.05 '.' 0.1 ' ' 1\n",
       "\n",
       "Residual standard error: 8.122 on 502 degrees of freedom\n",
       "Multiple R-squared:  0.1138,\tAdjusted R-squared:  0.1085 \n",
       "F-statistic: 21.48 on 3 and 502 DF,  p-value: 4.171e-13\n"
      ]
     },
     "metadata": {},
     "output_type": "display_data"
    }
   ],
   "source": [
    "lm.ptratio = lm(crim~poly(ptratio,3), data=Boston)\n",
    "summary(lm.ptratio)"
   ]
  },
  {
   "cell_type": "code",
   "execution_count": 218,
   "metadata": {},
   "outputs": [
    {
     "data": {
      "text/plain": [
       "\n",
       "Call:\n",
       "lm(formula = crim ~ poly(black, 3), data = Boston)\n",
       "\n",
       "Residuals:\n",
       "    Min      1Q  Median      3Q     Max \n",
       "-13.096  -2.343  -2.128  -1.439  86.790 \n",
       "\n",
       "Coefficients:\n",
       "                Estimate Std. Error t value Pr(>|t|)    \n",
       "(Intercept)       3.6135     0.3536  10.218   <2e-16 ***\n",
       "poly(black, 3)1 -74.4312     7.9546  -9.357   <2e-16 ***\n",
       "poly(black, 3)2   5.9264     7.9546   0.745    0.457    \n",
       "poly(black, 3)3  -4.8346     7.9546  -0.608    0.544    \n",
       "---\n",
       "Signif. codes:  0 '***' 0.001 '**' 0.01 '*' 0.05 '.' 0.1 ' ' 1\n",
       "\n",
       "Residual standard error: 7.955 on 502 degrees of freedom\n",
       "Multiple R-squared:  0.1498,\tAdjusted R-squared:  0.1448 \n",
       "F-statistic: 29.49 on 3 and 502 DF,  p-value: < 2.2e-16\n"
      ]
     },
     "metadata": {},
     "output_type": "display_data"
    }
   ],
   "source": [
    "lm.black = lm(crim~poly(black,3), data=Boston)\n",
    "summary(lm.black)"
   ]
  },
  {
   "cell_type": "code",
   "execution_count": 219,
   "metadata": {},
   "outputs": [
    {
     "data": {
      "text/plain": [
       "\n",
       "Call:\n",
       "lm(formula = crim ~ poly(lstat, 3), data = Boston)\n",
       "\n",
       "Residuals:\n",
       "    Min      1Q  Median      3Q     Max \n",
       "-15.234  -2.151  -0.486   0.066  83.353 \n",
       "\n",
       "Coefficients:\n",
       "                Estimate Std. Error t value Pr(>|t|)    \n",
       "(Intercept)       3.6135     0.3392  10.654   <2e-16 ***\n",
       "poly(lstat, 3)1  88.0697     7.6294  11.543   <2e-16 ***\n",
       "poly(lstat, 3)2  15.8882     7.6294   2.082   0.0378 *  \n",
       "poly(lstat, 3)3 -11.5740     7.6294  -1.517   0.1299    \n",
       "---\n",
       "Signif. codes:  0 '***' 0.001 '**' 0.01 '*' 0.05 '.' 0.1 ' ' 1\n",
       "\n",
       "Residual standard error: 7.629 on 502 degrees of freedom\n",
       "Multiple R-squared:  0.2179,\tAdjusted R-squared:  0.2133 \n",
       "F-statistic: 46.63 on 3 and 502 DF,  p-value: < 2.2e-16\n"
      ]
     },
     "metadata": {},
     "output_type": "display_data"
    }
   ],
   "source": [
    "lm.lstat = lm(crim~poly(lstat,3), data=Boston)\n",
    "summary(lm.lstat)"
   ]
  },
  {
   "cell_type": "code",
   "execution_count": 220,
   "metadata": {},
   "outputs": [
    {
     "ename": "ERROR",
     "evalue": "Error in eval(predvars, data, env): object 'crim' not found\n",
     "output_type": "error",
     "traceback": [
      "Error in eval(predvars, data, env): object 'crim' not found\nTraceback:\n",
      "1. lm(crim ~ poly(medv, 3))",
      "2. eval(mf, parent.frame())",
      "3. eval(mf, parent.frame())",
      "4. stats::model.frame(formula = crim ~ poly(medv, 3), drop.unused.levels = TRUE)",
      "5. model.frame.default(formula = crim ~ poly(medv, 3), drop.unused.levels = TRUE)",
      "6. eval(predvars, data, env)",
      "7. eval(predvars, data, env)"
     ]
    }
   ],
   "source": [
    "lm.medv = lm(crim~poly(medv,3))\n",
    "summary(lm.medv)"
   ]
  },
  {
   "cell_type": "markdown",
   "metadata": {},
   "source": [
    "It is true for most, except for black and chas."
   ]
  }
 ],
 "metadata": {
  "kernelspec": {
   "display_name": "R",
   "language": "R",
   "name": "ir"
  },
  "language_info": {
   "codemirror_mode": "r",
   "file_extension": ".r",
   "mimetype": "text/x-r-source",
   "name": "R",
   "pygments_lexer": "r",
   "version": "3.6.1"
  }
 },
 "nbformat": 4,
 "nbformat_minor": 2
}
