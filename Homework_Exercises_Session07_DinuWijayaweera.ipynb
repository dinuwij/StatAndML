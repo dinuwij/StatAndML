{
 "cells": [
  {
   "cell_type": "markdown",
   "metadata": {},
   "source": [
    "# Exercises\n",
    " \n"
   ]
  },
  {
   "cell_type": "code",
   "execution_count": 16,
   "metadata": {},
   "outputs": [
    {
     "name": "stderr",
     "output_type": "stream",
     "text": [
      "Warning message:\n",
      "\"package 'mlr' was built under R version 3.6.2\"Loading required package: ParamHelpers\n",
      "Warning message:\n",
      "\"package 'ParamHelpers' was built under R version 3.6.2\"'mlr' is in maintenance mode since July 2019. Future development\n",
      "efforts will go into its successor 'mlr3' (<https://mlr3.mlr-org.com>).\n",
      "Warning message:\n",
      "\"package 'caret' was built under R version 3.6.2\"Loading required package: lattice\n",
      "Warning message:\n",
      "\"package 'lattice' was built under R version 3.6.2\"Loading required package: ggplot2\n",
      "\n",
      "Attaching package: 'caret'\n",
      "\n",
      "The following object is masked from 'package:mlr':\n",
      "\n",
      "    train\n",
      "\n",
      "Warning message:\n",
      "\"package 'pROC' was built under R version 3.6.2\"Type 'citation(\"pROC\")' for a citation.\n",
      "\n",
      "Attaching package: 'pROC'\n",
      "\n",
      "The following objects are masked from 'package:stats':\n",
      "\n",
      "    cov, smooth, var\n",
      "\n",
      "Warning message:\n",
      "\"package 'e1071' was built under R version 3.6.2\"\n",
      "Attaching package: 'e1071'\n",
      "\n",
      "The following object is masked from 'package:mlr':\n",
      "\n",
      "    impute\n",
      "\n",
      "Warning message:\n",
      "\"package 'ISLR' was built under R version 3.6.2\""
     ]
    }
   ],
   "source": [
    "# Import libraries\n",
    "library(data.table)  # Data manipulate\n",
    "library(mlr)         # ML toolkit\n",
    "library(caret)       # ML toolkit\n",
    "library(ggplot2)     # Visualization\n",
    "library(pROC)        # AUC, ROC\n",
    "library(e1071)\n",
    "library(ISLR)"
   ]
  },
  {
   "cell_type": "code",
   "execution_count": null,
   "metadata": {},
   "outputs": [],
   "source": [
    "#### Exercise 3 (p.410, Chap.10)"
   ]
  },
  {
   "cell_type": "code",
   "execution_count": null,
   "metadata": {},
   "outputs": [],
   "source": [
    "#a"
   ]
  },
  {
   "cell_type": "code",
   "execution_count": 1,
   "metadata": {},
   "outputs": [
    {
     "data": {
      "text/html": [
       "<table>\n",
       "<tbody>\n",
       "\t<tr><td>1</td><td>4</td></tr>\n",
       "\t<tr><td>1</td><td>3</td></tr>\n",
       "\t<tr><td>0</td><td>4</td></tr>\n",
       "\t<tr><td>5</td><td>1</td></tr>\n",
       "\t<tr><td>6</td><td>2</td></tr>\n",
       "\t<tr><td>4</td><td>0</td></tr>\n",
       "</tbody>\n",
       "</table>\n"
      ],
      "text/latex": [
       "\\begin{tabular}{ll}\n",
       "\t 1 & 4\\\\\n",
       "\t 1 & 3\\\\\n",
       "\t 0 & 4\\\\\n",
       "\t 5 & 1\\\\\n",
       "\t 6 & 2\\\\\n",
       "\t 4 & 0\\\\\n",
       "\\end{tabular}\n"
      ],
      "text/markdown": [
       "\n",
       "| 1 | 4 |\n",
       "| 1 | 3 |\n",
       "| 0 | 4 |\n",
       "| 5 | 1 |\n",
       "| 6 | 2 |\n",
       "| 4 | 0 |\n",
       "\n"
      ],
      "text/plain": [
       "     [,1] [,2]\n",
       "[1,] 1    4   \n",
       "[2,] 1    3   \n",
       "[3,] 0    4   \n",
       "[4,] 5    1   \n",
       "[5,] 6    2   \n",
       "[6,] 4    0   "
      ]
     },
     "metadata": {},
     "output_type": "display_data"
    }
   ],
   "source": [
    "set.seed(1)\n",
    "var = cbind(c(1, 1, 0, 5, 6, 4), c(4, 3, 4, 1, 2, 0))\n",
    "var"
   ]
  },
  {
   "cell_type": "code",
   "execution_count": 2,
   "metadata": {},
   "outputs": [
    {
     "data": {
      "image/png": "[encoded data removed]",
      "text/plain": [
       "plot without title"
      ]
     },
     "metadata": {},
     "output_type": "display_data"
    }
   ],
   "source": [
    "plot(var[,1], var[,2])"
   ]
  },
  {
   "cell_type": "code",
   "execution_count": 3,
   "metadata": {},
   "outputs": [],
   "source": [
    "#b"
   ]
  },
  {
   "cell_type": "code",
   "execution_count": 4,
   "metadata": {},
   "outputs": [
    {
     "data": {
      "text/html": [
       "<ol class=list-inline>\n",
       "\t<li>1</li>\n",
       "\t<li>2</li>\n",
       "\t<li>1</li>\n",
       "\t<li>1</li>\n",
       "\t<li>2</li>\n",
       "\t<li>1</li>\n",
       "</ol>\n"
      ],
      "text/latex": [
       "\\begin{enumerate*}\n",
       "\\item 1\n",
       "\\item 2\n",
       "\\item 1\n",
       "\\item 1\n",
       "\\item 2\n",
       "\\item 1\n",
       "\\end{enumerate*}\n"
      ],
      "text/markdown": [
       "1. 1\n",
       "2. 2\n",
       "3. 1\n",
       "4. 1\n",
       "5. 2\n",
       "6. 1\n",
       "\n",
       "\n"
      ],
      "text/plain": [
       "[1] 1 2 1 1 2 1"
      ]
     },
     "metadata": {},
     "output_type": "display_data"
    }
   ],
   "source": [
    "labels = sample(2, nrow(var), replace=T)\n",
    "labels"
   ]
  },
  {
   "cell_type": "code",
   "execution_count": 5,
   "metadata": {},
   "outputs": [],
   "source": [
    "#c"
   ]
  },
  {
   "cell_type": "code",
   "execution_count": 6,
   "metadata": {},
   "outputs": [
    {
     "data": {
      "text/html": [
       "<ol class=list-inline>\n",
       "\t<li>2.5</li>\n",
       "\t<li>2.25</li>\n",
       "</ol>\n"
      ],
      "text/latex": [
       "\\begin{enumerate*}\n",
       "\\item 2.5\n",
       "\\item 2.25\n",
       "\\end{enumerate*}\n"
      ],
      "text/markdown": [
       "1. 2.5\n",
       "2. 2.25\n",
       "\n",
       "\n"
      ],
      "text/plain": [
       "[1] 2.50 2.25"
      ]
     },
     "metadata": {},
     "output_type": "display_data"
    }
   ],
   "source": [
    "centroid = c(mean(var[labels==1, 1]), mean(var[labels==1, 2]))\n",
    "centroid_new = c(mean(var[labels==2, 1]), mean(var[labels==2, 2]))\n",
    "centroid"
   ]
  },
  {
   "cell_type": "code",
   "execution_count": 7,
   "metadata": {},
   "outputs": [
    {
     "data": {
      "image/png": "[encoded data removed]",
      "text/plain": [
       "plot without title"
      ]
     },
     "metadata": {},
     "output_type": "display_data"
    }
   ],
   "source": [
    "plot(var[,1], var[,2], col=(labels+1), pch=20, cex=2)\n",
    "points(centroid[1], centroid[2], col=2, pch=4)\n",
    "points(centroid_new[1], centroid_new[2], col=3, pch=4)"
   ]
  },
  {
   "cell_type": "code",
   "execution_count": null,
   "metadata": {},
   "outputs": [],
   "source": [
    "#d"
   ]
  },
  {
   "cell_type": "code",
   "execution_count": 9,
   "metadata": {},
   "outputs": [
    {
     "data": {
      "text/html": [
       "<ol class=list-inline>\n",
       "\t<li>1</li>\n",
       "\t<li>1</li>\n",
       "\t<li>1</li>\n",
       "\t<li>2</li>\n",
       "\t<li>2</li>\n",
       "\t<li>2</li>\n",
       "</ol>\n"
      ],
      "text/latex": [
       "\\begin{enumerate*}\n",
       "\\item 1\n",
       "\\item 1\n",
       "\\item 1\n",
       "\\item 2\n",
       "\\item 2\n",
       "\\item 2\n",
       "\\end{enumerate*}\n"
      ],
      "text/markdown": [
       "1. 1\n",
       "2. 1\n",
       "3. 1\n",
       "4. 2\n",
       "5. 2\n",
       "6. 2\n",
       "\n",
       "\n"
      ],
      "text/plain": [
       "[1] 1 1 1 2 2 2"
      ]
     },
     "metadata": {},
     "output_type": "display_data"
    }
   ],
   "source": [
    "euclid = function(a, b) {\n",
    "  return(sqrt((a[1] - b[1])^2 + (a[2]-b[2])^2))\n",
    "}\n",
    "assign_labels = function(var, centroid, centroid_new) {\n",
    "  labels = rep(NA, nrow(var))\n",
    "  for (i in 1:nrow(var)) {\n",
    "    if (euclid(var[i,], centroid) < euclid(var[i,], centroid_new)) {\n",
    "      labels[i] = 1\n",
    "    } else {\n",
    "      labels[i] = 2\n",
    "    }\n",
    "  }\n",
    "  return(labels)\n",
    "}\n",
    "labels = assign_labels(var, centroid, centroid_new)\n",
    "labels"
   ]
  },
  {
   "cell_type": "code",
   "execution_count": null,
   "metadata": {},
   "outputs": [],
   "source": [
    "#e"
   ]
  },
  {
   "cell_type": "code",
   "execution_count": 11,
   "metadata": {},
   "outputs": [
    {
     "name": "stdout",
     "output_type": "stream",
     "text": [
      "[1] 0.6666667 3.6666667\n",
      "[1] 5 1\n"
     ]
    }
   ],
   "source": [
    "last_labels = rep(-1, 6)\n",
    "while (!all(last_labels == labels)) {\n",
    "  last_labels = labels\n",
    "  centroid = c(mean(var[labels==1, 1]), mean(var[labels==1, 2]))\n",
    "  centroid_new = c(mean(var[labels==2, 1]), mean(var[labels==2, 2]))\n",
    "  print(centroid)\n",
    "  print(centroid_new)\n",
    "  labels = assign_labels(var, centroid, centroid_new)\n",
    "}"
   ]
  },
  {
   "cell_type": "code",
   "execution_count": null,
   "metadata": {},
   "outputs": [],
   "source": [
    "#f"
   ]
  },
  {
   "cell_type": "code",
   "execution_count": 13,
   "metadata": {},
   "outputs": [
    {
     "data": {
      "image/png": "[encoded data removed]",
      "text/plain": [
       "plot without title"
      ]
     },
     "metadata": {},
     "output_type": "display_data"
    }
   ],
   "source": [
    "plot(var[,1], var[,2], col=(labels+1), pch=20, cex=2)\n",
    "points(centroid[1], centroid[2], col=2, pch=4)\n",
    "points(centroid_new[1], centroid_new[2], col=3, pch=4)"
   ]
  },
  {
   "cell_type": "markdown",
   "metadata": {},
   "source": [
    "#### Exercise 8"
   ]
  },
  {
   "cell_type": "code",
   "execution_count": null,
   "metadata": {},
   "outputs": [],
   "source": [
    "#1"
   ]
  },
  {
   "cell_type": "code",
   "execution_count": 17,
   "metadata": {},
   "outputs": [
    {
     "data": {
      "text/html": [
       "<ol class=list-inline>\n",
       "\t<li>0.620060394787374</li>\n",
       "\t<li>0.24744128813496</li>\n",
       "\t<li>0.0891407951452075</li>\n",
       "\t<li>0.0433575219324588</li>\n",
       "</ol>\n"
      ],
      "text/latex": [
       "\\begin{enumerate*}\n",
       "\\item 0.620060394787374\n",
       "\\item 0.24744128813496\n",
       "\\item 0.0891407951452075\n",
       "\\item 0.0433575219324588\n",
       "\\end{enumerate*}\n"
      ],
      "text/markdown": [
       "1. 0.620060394787374\n",
       "2. 0.24744128813496\n",
       "3. 0.0891407951452075\n",
       "4. 0.0433575219324588\n",
       "\n",
       "\n"
      ],
      "text/plain": [
       "[1] 0.62006039 0.24744129 0.08914080 0.04335752"
      ]
     },
     "metadata": {},
     "output_type": "display_data"
    }
   ],
   "source": [
    "arrests_prcomp = prcomp(USArrests, center=T, scale=T)\n",
    "prcomp_sdev = arrests_prcomp$sdev^2\n",
    "pve_prcomp = prcomp_sdev / sum(prcomp_sdev)\n",
    "pve_prcomp"
   ]
  },
  {
   "cell_type": "code",
   "execution_count": null,
   "metadata": {},
   "outputs": [],
   "source": [
    "#2"
   ]
  },
  {
   "cell_type": "code",
   "execution_count": 20,
   "metadata": {},
   "outputs": [
    {
     "data": {
      "text/html": [
       "<ol class=list-inline>\n",
       "\t<li>0.620060394787374</li>\n",
       "\t<li>0.24744128813496</li>\n",
       "\t<li>0.0891407951452075</li>\n",
       "\t<li>0.0433575219324588</li>\n",
       "</ol>\n"
      ],
      "text/latex": [
       "\\begin{enumerate*}\n",
       "\\item 0.620060394787374\n",
       "\\item 0.24744128813496\n",
       "\\item 0.0891407951452075\n",
       "\\item 0.0433575219324588\n",
       "\\end{enumerate*}\n"
      ],
      "text/markdown": [
       "1. 0.620060394787374\n",
       "2. 0.24744128813496\n",
       "3. 0.0891407951452075\n",
       "4. 0.0433575219324588\n",
       "\n",
       "\n"
      ],
      "text/plain": [
       "[1] 0.62006039 0.24744129 0.08914080 0.04335752"
      ]
     },
     "metadata": {},
     "output_type": "display_data"
    }
   ],
   "source": [
    "loadings = arrests_prcomp$rotation\n",
    "pve_direct = rep(NA, 4)\n",
    "dmean = apply(USArrests, 2, mean)\n",
    "dsdev = sqrt(apply(USArrests, 2, var))\n",
    "dsc = sweep(USArrests, MARGIN=2, dmean, \"-\")\n",
    "dsc = sweep(dsc, MARGIN=2, dsdev, \"/\")\n",
    "for (i in 1:4) {\n",
    "  proto_x = sweep(dsc, MARGIN=2, loadings[,i], \"*\")\n",
    "  pc_x = apply(proto_x, 1, sum)\n",
    "  pve_direct[i] = sum(pc_x^2)\n",
    "}\n",
    "pve_direct = pve_direct/sum(dsc^2)\n",
    "pve_direct"
   ]
  },
  {
   "cell_type": "markdown",
   "metadata": {},
   "source": [
    "#### Exercise 9"
   ]
  },
  {
   "cell_type": "code",
   "execution_count": null,
   "metadata": {},
   "outputs": [],
   "source": [
    "#a"
   ]
  },
  {
   "cell_type": "code",
   "execution_count": 23,
   "metadata": {},
   "outputs": [
    {
     "data": {
      "image/png": "[encoded data removed]",
      "text/plain": [
       "Plot with title \"Cluster Dendrogram\""
      ]
     },
     "metadata": {},
     "output_type": "display_data"
    }
   ],
   "source": [
    "set.seed(120)\n",
    "\n",
    "#create hierarchical cluster using complete linkage and euclidean distance\n",
    "hierarchical_complete = hclust(dist(USArrests), method=\"complete\")\n",
    "plot(hierarchical_complete)"
   ]
  },
  {
   "cell_type": "code",
   "execution_count": null,
   "metadata": {},
   "outputs": [],
   "source": [
    "#b"
   ]
  },
  {
   "cell_type": "code",
   "execution_count": 24,
   "metadata": {},
   "outputs": [
    {
     "data": {
      "text/html": [
       "<dl class=dl-horizontal>\n",
       "\t<dt>Alabama</dt>\n",
       "\t\t<dd>1</dd>\n",
       "\t<dt>Alaska</dt>\n",
       "\t\t<dd>1</dd>\n",
       "\t<dt>Arizona</dt>\n",
       "\t\t<dd>1</dd>\n",
       "\t<dt>Arkansas</dt>\n",
       "\t\t<dd>2</dd>\n",
       "\t<dt>California</dt>\n",
       "\t\t<dd>1</dd>\n",
       "\t<dt>Colorado</dt>\n",
       "\t\t<dd>2</dd>\n",
       "\t<dt>Connecticut</dt>\n",
       "\t\t<dd>3</dd>\n",
       "\t<dt>Delaware</dt>\n",
       "\t\t<dd>1</dd>\n",
       "\t<dt>Florida</dt>\n",
       "\t\t<dd>1</dd>\n",
       "\t<dt>Georgia</dt>\n",
       "\t\t<dd>2</dd>\n",
       "\t<dt>Hawaii</dt>\n",
       "\t\t<dd>3</dd>\n",
       "\t<dt>Idaho</dt>\n",
       "\t\t<dd>3</dd>\n",
       "\t<dt>Illinois</dt>\n",
       "\t\t<dd>1</dd>\n",
       "\t<dt>Indiana</dt>\n",
       "\t\t<dd>3</dd>\n",
       "\t<dt>Iowa</dt>\n",
       "\t\t<dd>3</dd>\n",
       "\t<dt>Kansas</dt>\n",
       "\t\t<dd>3</dd>\n",
       "\t<dt>Kentucky</dt>\n",
       "\t\t<dd>3</dd>\n",
       "\t<dt>Louisiana</dt>\n",
       "\t\t<dd>1</dd>\n",
       "\t<dt>Maine</dt>\n",
       "\t\t<dd>3</dd>\n",
       "\t<dt>Maryland</dt>\n",
       "\t\t<dd>1</dd>\n",
       "\t<dt>Massachusetts</dt>\n",
       "\t\t<dd>2</dd>\n",
       "\t<dt>Michigan</dt>\n",
       "\t\t<dd>1</dd>\n",
       "\t<dt>Minnesota</dt>\n",
       "\t\t<dd>3</dd>\n",
       "\t<dt>Mississippi</dt>\n",
       "\t\t<dd>1</dd>\n",
       "\t<dt>Missouri</dt>\n",
       "\t\t<dd>2</dd>\n",
       "\t<dt>Montana</dt>\n",
       "\t\t<dd>3</dd>\n",
       "\t<dt>Nebraska</dt>\n",
       "\t\t<dd>3</dd>\n",
       "\t<dt>Nevada</dt>\n",
       "\t\t<dd>1</dd>\n",
       "\t<dt>New Hampshire</dt>\n",
       "\t\t<dd>3</dd>\n",
       "\t<dt>New Jersey</dt>\n",
       "\t\t<dd>2</dd>\n",
       "\t<dt>New Mexico</dt>\n",
       "\t\t<dd>1</dd>\n",
       "\t<dt>New York</dt>\n",
       "\t\t<dd>1</dd>\n",
       "\t<dt>North Carolina</dt>\n",
       "\t\t<dd>1</dd>\n",
       "\t<dt>North Dakota</dt>\n",
       "\t\t<dd>3</dd>\n",
       "\t<dt>Ohio</dt>\n",
       "\t\t<dd>3</dd>\n",
       "\t<dt>Oklahoma</dt>\n",
       "\t\t<dd>2</dd>\n",
       "\t<dt>Oregon</dt>\n",
       "\t\t<dd>2</dd>\n",
       "\t<dt>Pennsylvania</dt>\n",
       "\t\t<dd>3</dd>\n",
       "\t<dt>Rhode Island</dt>\n",
       "\t\t<dd>2</dd>\n",
       "\t<dt>South Carolina</dt>\n",
       "\t\t<dd>1</dd>\n",
       "\t<dt>South Dakota</dt>\n",
       "\t\t<dd>3</dd>\n",
       "\t<dt>Tennessee</dt>\n",
       "\t\t<dd>2</dd>\n",
       "\t<dt>Texas</dt>\n",
       "\t\t<dd>2</dd>\n",
       "\t<dt>Utah</dt>\n",
       "\t\t<dd>3</dd>\n",
       "\t<dt>Vermont</dt>\n",
       "\t\t<dd>3</dd>\n",
       "\t<dt>Virginia</dt>\n",
       "\t\t<dd>2</dd>\n",
       "\t<dt>Washington</dt>\n",
       "\t\t<dd>2</dd>\n",
       "\t<dt>West Virginia</dt>\n",
       "\t\t<dd>3</dd>\n",
       "\t<dt>Wisconsin</dt>\n",
       "\t\t<dd>3</dd>\n",
       "\t<dt>Wyoming</dt>\n",
       "\t\t<dd>2</dd>\n",
       "</dl>\n"
      ],
      "text/latex": [
       "\\begin{description*}\n",
       "\\item[Alabama] 1\n",
       "\\item[Alaska] 1\n",
       "\\item[Arizona] 1\n",
       "\\item[Arkansas] 2\n",
       "\\item[California] 1\n",
       "\\item[Colorado] 2\n",
       "\\item[Connecticut] 3\n",
       "\\item[Delaware] 1\n",
       "\\item[Florida] 1\n",
       "\\item[Georgia] 2\n",
       "\\item[Hawaii] 3\n",
       "\\item[Idaho] 3\n",
       "\\item[Illinois] 1\n",
       "\\item[Indiana] 3\n",
       "\\item[Iowa] 3\n",
       "\\item[Kansas] 3\n",
       "\\item[Kentucky] 3\n",
       "\\item[Louisiana] 1\n",
       "\\item[Maine] 3\n",
       "\\item[Maryland] 1\n",
       "\\item[Massachusetts] 2\n",
       "\\item[Michigan] 1\n",
       "\\item[Minnesota] 3\n",
       "\\item[Mississippi] 1\n",
       "\\item[Missouri] 2\n",
       "\\item[Montana] 3\n",
       "\\item[Nebraska] 3\n",
       "\\item[Nevada] 1\n",
       "\\item[New Hampshire] 3\n",
       "\\item[New Jersey] 2\n",
       "\\item[New Mexico] 1\n",
       "\\item[New York] 1\n",
       "\\item[North Carolina] 1\n",
       "\\item[North Dakota] 3\n",
       "\\item[Ohio] 3\n",
       "\\item[Oklahoma] 2\n",
       "\\item[Oregon] 2\n",
       "\\item[Pennsylvania] 3\n",
       "\\item[Rhode Island] 2\n",
       "\\item[South Carolina] 1\n",
       "\\item[South Dakota] 3\n",
       "\\item[Tennessee] 2\n",
       "\\item[Texas] 2\n",
       "\\item[Utah] 3\n",
       "\\item[Vermont] 3\n",
       "\\item[Virginia] 2\n",
       "\\item[Washington] 2\n",
       "\\item[West Virginia] 3\n",
       "\\item[Wisconsin] 3\n",
       "\\item[Wyoming] 2\n",
       "\\end{description*}\n"
      ],
      "text/markdown": [
       "Alabama\n",
       ":   1Alaska\n",
       ":   1Arizona\n",
       ":   1Arkansas\n",
       ":   2California\n",
       ":   1Colorado\n",
       ":   2Connecticut\n",
       ":   3Delaware\n",
       ":   1Florida\n",
       ":   1Georgia\n",
       ":   2Hawaii\n",
       ":   3Idaho\n",
       ":   3Illinois\n",
       ":   1Indiana\n",
       ":   3Iowa\n",
       ":   3Kansas\n",
       ":   3Kentucky\n",
       ":   3Louisiana\n",
       ":   1Maine\n",
       ":   3Maryland\n",
       ":   1Massachusetts\n",
       ":   2Michigan\n",
       ":   1Minnesota\n",
       ":   3Mississippi\n",
       ":   1Missouri\n",
       ":   2Montana\n",
       ":   3Nebraska\n",
       ":   3Nevada\n",
       ":   1New Hampshire\n",
       ":   3New Jersey\n",
       ":   2New Mexico\n",
       ":   1New York\n",
       ":   1North Carolina\n",
       ":   1North Dakota\n",
       ":   3Ohio\n",
       ":   3Oklahoma\n",
       ":   2Oregon\n",
       ":   2Pennsylvania\n",
       ":   3Rhode Island\n",
       ":   2South Carolina\n",
       ":   1South Dakota\n",
       ":   3Tennessee\n",
       ":   2Texas\n",
       ":   2Utah\n",
       ":   3Vermont\n",
       ":   3Virginia\n",
       ":   2Washington\n",
       ":   2West Virginia\n",
       ":   3Wisconsin\n",
       ":   3Wyoming\n",
       ":   2\n",
       "\n"
      ],
      "text/plain": [
       "       Alabama         Alaska        Arizona       Arkansas     California \n",
       "             1              1              1              2              1 \n",
       "      Colorado    Connecticut       Delaware        Florida        Georgia \n",
       "             2              3              1              1              2 \n",
       "        Hawaii          Idaho       Illinois        Indiana           Iowa \n",
       "             3              3              1              3              3 \n",
       "        Kansas       Kentucky      Louisiana          Maine       Maryland \n",
       "             3              3              1              3              1 \n",
       " Massachusetts       Michigan      Minnesota    Mississippi       Missouri \n",
       "             2              1              3              1              2 \n",
       "       Montana       Nebraska         Nevada  New Hampshire     New Jersey \n",
       "             3              3              1              3              2 \n",
       "    New Mexico       New York North Carolina   North Dakota           Ohio \n",
       "             1              1              1              3              3 \n",
       "      Oklahoma         Oregon   Pennsylvania   Rhode Island South Carolina \n",
       "             2              2              3              2              1 \n",
       "  South Dakota      Tennessee          Texas           Utah        Vermont \n",
       "             3              2              2              3              3 \n",
       "      Virginia     Washington  West Virginia      Wisconsin        Wyoming \n",
       "             2              2              3              3              2 "
      ]
     },
     "metadata": {},
     "output_type": "display_data"
    }
   ],
   "source": [
    "#states in clusters\n",
    "#cut the dendrogram in 3 distinct clusters\n",
    "cutree(hierarchical_complete, 3)\n",
    "\n"
   ]
  },
  {
   "cell_type": "code",
   "execution_count": null,
   "metadata": {},
   "outputs": [],
   "source": [
    "#c"
   ]
  },
  {
   "cell_type": "code",
   "execution_count": 27,
   "metadata": {},
   "outputs": [
    {
     "data": {
      "image/png": "[encoded data removed]",
      "text/plain": [
       "Plot with title \"Cluster Dendrogram\""
      ]
     },
     "metadata": {},
     "output_type": "display_data"
    }
   ],
   "source": [
    "# scale the data\n",
    "scaled_states = scale(USArrests)\n",
    "\n",
    "#hierarchical clustering with complete linkage and euclidean distance\n",
    "scaled_states_euclidean = hclust(dist(scaled_states), method=\"complete\")\n",
    "plot(scaled_states_euclidean)"
   ]
  },
  {
   "cell_type": "code",
   "execution_count": null,
   "metadata": {},
   "outputs": [],
   "source": [
    "#d"
   ]
  },
  {
   "cell_type": "code",
   "execution_count": 28,
   "metadata": {},
   "outputs": [
    {
     "data": {
      "text/html": [
       "<dl class=dl-horizontal>\n",
       "\t<dt>Alabama</dt>\n",
       "\t\t<dd>1</dd>\n",
       "\t<dt>Alaska</dt>\n",
       "\t\t<dd>1</dd>\n",
       "\t<dt>Arizona</dt>\n",
       "\t\t<dd>2</dd>\n",
       "\t<dt>Arkansas</dt>\n",
       "\t\t<dd>3</dd>\n",
       "\t<dt>California</dt>\n",
       "\t\t<dd>2</dd>\n",
       "\t<dt>Colorado</dt>\n",
       "\t\t<dd>2</dd>\n",
       "\t<dt>Connecticut</dt>\n",
       "\t\t<dd>3</dd>\n",
       "\t<dt>Delaware</dt>\n",
       "\t\t<dd>3</dd>\n",
       "\t<dt>Florida</dt>\n",
       "\t\t<dd>2</dd>\n",
       "\t<dt>Georgia</dt>\n",
       "\t\t<dd>1</dd>\n",
       "\t<dt>Hawaii</dt>\n",
       "\t\t<dd>3</dd>\n",
       "\t<dt>Idaho</dt>\n",
       "\t\t<dd>3</dd>\n",
       "\t<dt>Illinois</dt>\n",
       "\t\t<dd>2</dd>\n",
       "\t<dt>Indiana</dt>\n",
       "\t\t<dd>3</dd>\n",
       "\t<dt>Iowa</dt>\n",
       "\t\t<dd>3</dd>\n",
       "\t<dt>Kansas</dt>\n",
       "\t\t<dd>3</dd>\n",
       "\t<dt>Kentucky</dt>\n",
       "\t\t<dd>3</dd>\n",
       "\t<dt>Louisiana</dt>\n",
       "\t\t<dd>1</dd>\n",
       "\t<dt>Maine</dt>\n",
       "\t\t<dd>3</dd>\n",
       "\t<dt>Maryland</dt>\n",
       "\t\t<dd>2</dd>\n",
       "\t<dt>Massachusetts</dt>\n",
       "\t\t<dd>3</dd>\n",
       "\t<dt>Michigan</dt>\n",
       "\t\t<dd>2</dd>\n",
       "\t<dt>Minnesota</dt>\n",
       "\t\t<dd>3</dd>\n",
       "\t<dt>Mississippi</dt>\n",
       "\t\t<dd>1</dd>\n",
       "\t<dt>Missouri</dt>\n",
       "\t\t<dd>3</dd>\n",
       "\t<dt>Montana</dt>\n",
       "\t\t<dd>3</dd>\n",
       "\t<dt>Nebraska</dt>\n",
       "\t\t<dd>3</dd>\n",
       "\t<dt>Nevada</dt>\n",
       "\t\t<dd>2</dd>\n",
       "\t<dt>New Hampshire</dt>\n",
       "\t\t<dd>3</dd>\n",
       "\t<dt>New Jersey</dt>\n",
       "\t\t<dd>3</dd>\n",
       "\t<dt>New Mexico</dt>\n",
       "\t\t<dd>2</dd>\n",
       "\t<dt>New York</dt>\n",
       "\t\t<dd>2</dd>\n",
       "\t<dt>North Carolina</dt>\n",
       "\t\t<dd>1</dd>\n",
       "\t<dt>North Dakota</dt>\n",
       "\t\t<dd>3</dd>\n",
       "\t<dt>Ohio</dt>\n",
       "\t\t<dd>3</dd>\n",
       "\t<dt>Oklahoma</dt>\n",
       "\t\t<dd>3</dd>\n",
       "\t<dt>Oregon</dt>\n",
       "\t\t<dd>3</dd>\n",
       "\t<dt>Pennsylvania</dt>\n",
       "\t\t<dd>3</dd>\n",
       "\t<dt>Rhode Island</dt>\n",
       "\t\t<dd>3</dd>\n",
       "\t<dt>South Carolina</dt>\n",
       "\t\t<dd>1</dd>\n",
       "\t<dt>South Dakota</dt>\n",
       "\t\t<dd>3</dd>\n",
       "\t<dt>Tennessee</dt>\n",
       "\t\t<dd>1</dd>\n",
       "\t<dt>Texas</dt>\n",
       "\t\t<dd>2</dd>\n",
       "\t<dt>Utah</dt>\n",
       "\t\t<dd>3</dd>\n",
       "\t<dt>Vermont</dt>\n",
       "\t\t<dd>3</dd>\n",
       "\t<dt>Virginia</dt>\n",
       "\t\t<dd>3</dd>\n",
       "\t<dt>Washington</dt>\n",
       "\t\t<dd>3</dd>\n",
       "\t<dt>West Virginia</dt>\n",
       "\t\t<dd>3</dd>\n",
       "\t<dt>Wisconsin</dt>\n",
       "\t\t<dd>3</dd>\n",
       "\t<dt>Wyoming</dt>\n",
       "\t\t<dd>3</dd>\n",
       "</dl>\n"
      ],
      "text/latex": [
       "\\begin{description*}\n",
       "\\item[Alabama] 1\n",
       "\\item[Alaska] 1\n",
       "\\item[Arizona] 2\n",
       "\\item[Arkansas] 3\n",
       "\\item[California] 2\n",
       "\\item[Colorado] 2\n",
       "\\item[Connecticut] 3\n",
       "\\item[Delaware] 3\n",
       "\\item[Florida] 2\n",
       "\\item[Georgia] 1\n",
       "\\item[Hawaii] 3\n",
       "\\item[Idaho] 3\n",
       "\\item[Illinois] 2\n",
       "\\item[Indiana] 3\n",
       "\\item[Iowa] 3\n",
       "\\item[Kansas] 3\n",
       "\\item[Kentucky] 3\n",
       "\\item[Louisiana] 1\n",
       "\\item[Maine] 3\n",
       "\\item[Maryland] 2\n",
       "\\item[Massachusetts] 3\n",
       "\\item[Michigan] 2\n",
       "\\item[Minnesota] 3\n",
       "\\item[Mississippi] 1\n",
       "\\item[Missouri] 3\n",
       "\\item[Montana] 3\n",
       "\\item[Nebraska] 3\n",
       "\\item[Nevada] 2\n",
       "\\item[New Hampshire] 3\n",
       "\\item[New Jersey] 3\n",
       "\\item[New Mexico] 2\n",
       "\\item[New York] 2\n",
       "\\item[North Carolina] 1\n",
       "\\item[North Dakota] 3\n",
       "\\item[Ohio] 3\n",
       "\\item[Oklahoma] 3\n",
       "\\item[Oregon] 3\n",
       "\\item[Pennsylvania] 3\n",
       "\\item[Rhode Island] 3\n",
       "\\item[South Carolina] 1\n",
       "\\item[South Dakota] 3\n",
       "\\item[Tennessee] 1\n",
       "\\item[Texas] 2\n",
       "\\item[Utah] 3\n",
       "\\item[Vermont] 3\n",
       "\\item[Virginia] 3\n",
       "\\item[Washington] 3\n",
       "\\item[West Virginia] 3\n",
       "\\item[Wisconsin] 3\n",
       "\\item[Wyoming] 3\n",
       "\\end{description*}\n"
      ],
      "text/markdown": [
       "Alabama\n",
       ":   1Alaska\n",
       ":   1Arizona\n",
       ":   2Arkansas\n",
       ":   3California\n",
       ":   2Colorado\n",
       ":   2Connecticut\n",
       ":   3Delaware\n",
       ":   3Florida\n",
       ":   2Georgia\n",
       ":   1Hawaii\n",
       ":   3Idaho\n",
       ":   3Illinois\n",
       ":   2Indiana\n",
       ":   3Iowa\n",
       ":   3Kansas\n",
       ":   3Kentucky\n",
       ":   3Louisiana\n",
       ":   1Maine\n",
       ":   3Maryland\n",
       ":   2Massachusetts\n",
       ":   3Michigan\n",
       ":   2Minnesota\n",
       ":   3Mississippi\n",
       ":   1Missouri\n",
       ":   3Montana\n",
       ":   3Nebraska\n",
       ":   3Nevada\n",
       ":   2New Hampshire\n",
       ":   3New Jersey\n",
       ":   3New Mexico\n",
       ":   2New York\n",
       ":   2North Carolina\n",
       ":   1North Dakota\n",
       ":   3Ohio\n",
       ":   3Oklahoma\n",
       ":   3Oregon\n",
       ":   3Pennsylvania\n",
       ":   3Rhode Island\n",
       ":   3South Carolina\n",
       ":   1South Dakota\n",
       ":   3Tennessee\n",
       ":   1Texas\n",
       ":   2Utah\n",
       ":   3Vermont\n",
       ":   3Virginia\n",
       ":   3Washington\n",
       ":   3West Virginia\n",
       ":   3Wisconsin\n",
       ":   3Wyoming\n",
       ":   3\n",
       "\n"
      ],
      "text/plain": [
       "       Alabama         Alaska        Arizona       Arkansas     California \n",
       "             1              1              2              3              2 \n",
       "      Colorado    Connecticut       Delaware        Florida        Georgia \n",
       "             2              3              3              2              1 \n",
       "        Hawaii          Idaho       Illinois        Indiana           Iowa \n",
       "             3              3              2              3              3 \n",
       "        Kansas       Kentucky      Louisiana          Maine       Maryland \n",
       "             3              3              1              3              2 \n",
       " Massachusetts       Michigan      Minnesota    Mississippi       Missouri \n",
       "             3              2              3              1              3 \n",
       "       Montana       Nebraska         Nevada  New Hampshire     New Jersey \n",
       "             3              3              2              3              3 \n",
       "    New Mexico       New York North Carolina   North Dakota           Ohio \n",
       "             2              2              1              3              3 \n",
       "      Oklahoma         Oregon   Pennsylvania   Rhode Island South Carolina \n",
       "             3              3              3              3              1 \n",
       "  South Dakota      Tennessee          Texas           Utah        Vermont \n",
       "             3              1              2              3              3 \n",
       "      Virginia     Washington  West Virginia      Wisconsin        Wyoming \n",
       "             3              3              3              3              3 "
      ]
     },
     "metadata": {},
     "output_type": "display_data"
    }
   ],
   "source": [
    "cutree(scaled_states_euclidean, 3)"
   ]
  },
  {
   "cell_type": "code",
   "execution_count": 34,
   "metadata": {},
   "outputs": [
    {
     "data": {
      "text/html": [
       "104"
      ],
      "text/latex": [
       "104"
      ],
      "text/markdown": [
       "104"
      ],
      "text/plain": [
       "[1] 104"
      ]
     },
     "metadata": {},
     "output_type": "display_data"
    }
   ],
   "source": [
    "#the initial cluster\n",
    "sum(cutree(hierarchical_complete, 3))"
   ]
  },
  {
   "cell_type": "code",
   "execution_count": 36,
   "metadata": {},
   "outputs": [
    {
     "data": {
      "text/plain": [
       "\n",
       " 1  2  3 \n",
       "16 14 20 "
      ]
     },
     "metadata": {},
     "output_type": "display_data"
    }
   ],
   "source": [
    "table(cutree(hierarchical_complete, 3))"
   ]
  },
  {
   "cell_type": "code",
   "execution_count": 35,
   "metadata": {},
   "outputs": [
    {
     "data": {
      "text/html": [
       "123"
      ],
      "text/latex": [
       "123"
      ],
      "text/markdown": [
       "123"
      ],
      "text/plain": [
       "[1] 123"
      ]
     },
     "metadata": {},
     "output_type": "display_data"
    }
   ],
   "source": [
    "#the scaled cluster\n",
    "sum(cutree(scaled_states_euclidean, 3))"
   ]
  },
  {
   "cell_type": "code",
   "execution_count": 37,
   "metadata": {},
   "outputs": [
    {
     "data": {
      "text/plain": [
       "\n",
       " 1  2  3 \n",
       " 8 11 31 "
      ]
     },
     "metadata": {},
     "output_type": "display_data"
    }
   ],
   "source": [
    "table(cutree(scaled_states_euclidean, 3))"
   ]
  },
  {
   "cell_type": "code",
   "execution_count": null,
   "metadata": {},
   "outputs": [],
   "source": [
    "#I believe the variables should not be scaled before the inter observation\n",
    "#dissimilarities are computed.\n",
    "#Because as you can see above the scaled cluster has changed the propotional size of the variables\n"
   ]
  },
  {
   "cell_type": "markdown",
   "metadata": {},
   "source": [
    "#### Exercise 10"
   ]
  },
  {
   "cell_type": "code",
   "execution_count": null,
   "metadata": {},
   "outputs": [],
   "source": [
    "#a"
   ]
  },
  {
   "cell_type": "code",
   "execution_count": null,
   "metadata": {},
   "outputs": [],
   "source": [
    "set.seed(120)\n",
    "x = matrix(rnorm(20*3*50, mean=0, sd=0.001), ncol=50)\n",
    "x[1:20, 2] = 1\n",
    "x[21:40, 1] = 2\n",
    "x[21:40, 2] = 2\n",
    "x[41:60, 1] = 1"
   ]
  },
  {
   "cell_type": "code",
   "execution_count": null,
   "metadata": {},
   "outputs": [],
   "source": [
    "#b"
   ]
  },
  {
   "cell_type": "code",
   "execution_count": null,
   "metadata": {},
   "outputs": [],
   "source": [
    "pca_cluster = prcomp(x)\n",
    "summary(pca_cluster)"
   ]
  },
  {
   "cell_type": "code",
   "execution_count": null,
   "metadata": {},
   "outputs": [],
   "source": [
    "pca_cluster$x[,1:2]"
   ]
  },
  {
   "cell_type": "code",
   "execution_count": null,
   "metadata": {},
   "outputs": [],
   "source": [
    "plot(pca_cluster$x[,1:2], col=2:4, xlab=\"Z1\", ylab=\"Z2\", pch=19) "
   ]
  },
  {
   "cell_type": "code",
   "execution_count": null,
   "metadata": {},
   "outputs": [],
   "source": [
    "#c"
   ]
  },
  {
   "cell_type": "code",
   "execution_count": null,
   "metadata": {},
   "outputs": [],
   "source": [
    "kmeans_cluster = kmeans(x, 3, nstart=20)\n",
    "table(kkmeans_cluster$cluster, c(rep(1,20), rep(2,20), rep(3,20)))"
   ]
  },
  {
   "cell_type": "code",
   "execution_count": null,
   "metadata": {},
   "outputs": [],
   "source": [
    "#d"
   ]
  },
  {
   "cell_type": "code",
   "execution_count": null,
   "metadata": {},
   "outputs": [],
   "source": [
    "kmeans_cluster = kmeans(x, 2, nstart=20)\n",
    "kmeans_cluster$cluster"
   ]
  },
  {
   "cell_type": "code",
   "execution_count": null,
   "metadata": {},
   "outputs": [],
   "source": [
    "#e"
   ]
  },
  {
   "cell_type": "code",
   "execution_count": null,
   "metadata": {},
   "outputs": [],
   "source": [
    "kmeans_cluster = kmeans(x, 4, nstart=20)\n",
    "kmeans_cluster$cluster"
   ]
  },
  {
   "cell_type": "code",
   "execution_count": null,
   "metadata": {},
   "outputs": [],
   "source": [
    "#f"
   ]
  },
  {
   "cell_type": "code",
   "execution_count": null,
   "metadata": {},
   "outputs": [],
   "source": [
    "kmeans_cluster = kmeans(pca.out$x[,1:2], 3, nstart=20)\n",
    "table(kmeans_cluster$cluster, c(rep(1,20), rep(2,20), rep(3,20)))"
   ]
  },
  {
   "cell_type": "code",
   "execution_count": null,
   "metadata": {},
   "outputs": [],
   "source": [
    "#g"
   ]
  },
  {
   "cell_type": "code",
   "execution_count": null,
   "metadata": {},
   "outputs": [],
   "source": [
    "kmeans_cluster = kmeans(scale(x), 3, nstart=20)\n",
    "kmeans_cluster$cluster"
   ]
  },
  {
   "cell_type": "code",
   "execution_count": null,
   "metadata": {},
   "outputs": [],
   "source": [
    "#It can be seen that the scaling of the observations effects the distance between them."
   ]
  }
 ],
 "metadata": {
  "kernelspec": {
   "display_name": "R",
   "language": "R",
   "name": "ir"
  },
  "language_info": {
   "codemirror_mode": "r",
   "file_extension": ".r",
   "mimetype": "text/x-r-source",
   "name": "R",
   "pygments_lexer": "r",
   "version": "3.6.1"
  }
 },
 "nbformat": 4,
 "nbformat_minor": 2
}
